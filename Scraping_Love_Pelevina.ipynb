{
  "nbformat": 4,
  "nbformat_minor": 0,
  "metadata": {
    "colab": {
      "name": "Scraping_Love_Pelevina",
      "provenance": []
    },
    "kernelspec": {
      "name": "python3",
      "display_name": "Python 3"
    },
    "language_info": {
      "name": "python"
    }
  },
  "cells": [
    {
      "cell_type": "code",
      "execution_count": null,
      "metadata": {
        "colab": {
          "base_uri": "https://localhost:8080/"
        },
        "id": "0pjLju5VsNcn",
        "outputId": "9db0b413-315b-4495-8656-0c27a15086a3"
      },
      "outputs": [
        {
          "output_type": "stream",
          "name": "stdout",
          "text": [
            "Mounted at /content/gdrive\n"
          ]
        }
      ],
      "source": [
        "from google.colab import drive\n",
        "drive.mount('/content/gdrive')"
      ]
    },
    {
      "cell_type": "markdown",
      "source": [
        "# **Twitter Scraping**"
      ],
      "metadata": {
        "id": "XQfvlz2ksZv8"
      }
    },
    {
      "cell_type": "code",
      "source": [
        "!pip install Twython\n",
        "import pandas as pd\n",
        "import numpy as np \n",
        "from twython import Twython\n",
        "\n",
        "CONSUMER_KEY = \"GSFp39lByn2cHhkd6fWlMhtjM\"\n",
        "CONSUMER_SECRET = \"gSY4Qkwvj2fkMHULvK8Xbz3gTOaKLCJKpWSiDoP3patXlZUF2l\"\n",
        "ACCESS_TOKEN = \"1519627857789652992-l3RPomtznX4L7CkSqALxTzDbYkJV1q\"\n",
        "ACCESS_TOKEN_SECRET = \"LCRfD6x2t7l7yN2SJyKrqPP5NAckZu3EGI3xeHIHgSXtX\"\n",
        "\n",
        "twitter = Twython(\n",
        "    CONSUMER_KEY, CONSUMER_SECRET,\n",
        "    ACCESS_TOKEN, ACCESS_TOKEN_SECRET)"
      ],
      "metadata": {
        "colab": {
          "base_uri": "https://localhost:8080/"
        },
        "id": "4GvbdWp3sfMM",
        "outputId": "b79c0d8d-c144-401f-8de2-f058b75502d9"
      },
      "execution_count": null,
      "outputs": [
        {
          "output_type": "stream",
          "name": "stdout",
          "text": [
            "Looking in indexes: https://pypi.org/simple, https://us-python.pkg.dev/colab-wheels/public/simple/\n",
            "Collecting Twython\n",
            "  Downloading twython-3.9.1-py3-none-any.whl (33 kB)\n",
            "Requirement already satisfied: requests>=2.1.0 in /usr/local/lib/python3.7/dist-packages (from Twython) (2.23.0)\n",
            "Requirement already satisfied: requests-oauthlib>=0.4.0 in /usr/local/lib/python3.7/dist-packages (from Twython) (1.3.1)\n",
            "Requirement already satisfied: urllib3!=1.25.0,!=1.25.1,<1.26,>=1.21.1 in /usr/local/lib/python3.7/dist-packages (from requests>=2.1.0->Twython) (1.24.3)\n",
            "Requirement already satisfied: chardet<4,>=3.0.2 in /usr/local/lib/python3.7/dist-packages (from requests>=2.1.0->Twython) (3.0.4)\n",
            "Requirement already satisfied: idna<3,>=2.5 in /usr/local/lib/python3.7/dist-packages (from requests>=2.1.0->Twython) (2.10)\n",
            "Requirement already satisfied: certifi>=2017.4.17 in /usr/local/lib/python3.7/dist-packages (from requests>=2.1.0->Twython) (2022.6.15)\n",
            "Requirement already satisfied: oauthlib>=3.0.0 in /usr/local/lib/python3.7/dist-packages (from requests-oauthlib>=0.4.0->Twython) (3.2.0)\n",
            "Installing collected packages: Twython\n",
            "Successfully installed Twython-3.9.1\n"
          ]
        }
      ]
    },
    {
      "cell_type": "markdown",
      "source": [
        "Keyword: αγάπη"
      ],
      "metadata": {
        "id": "hg6FDXPnuF1Q"
      }
    },
    {
      "cell_type": "code",
      "source": [
        "tweet_agapi = []\n",
        "MAX_ATTEMPTS = 40\n",
        "COUNT_OF_TWEETS_TO_BE_FETCHED = 10000"
      ],
      "metadata": {
        "id": "aAAi0uY7sjHl"
      },
      "execution_count": null,
      "outputs": []
    },
    {
      "cell_type": "code",
      "source": [
        "for i in range(0,MAX_ATTEMPTS):\n",
        "\n",
        "    if(COUNT_OF_TWEETS_TO_BE_FETCHED < len(tweet_agapi)):\n",
        "        print(\"We Got \", len(tweet_agapi), \" tweets!!!\")\n",
        "        break \n",
        "\n",
        "\n",
        "    if(0 == i):\n",
        "        \n",
        "        results = twitter.search(q=\"αγαπη\", count='100', tweet_mode = 'extended')\n",
        "        print(\"I Got:\", len(results['statuses']), \" tweets\")\n",
        "    else:\n",
        "        \n",
        "        results = twitter.search(q=\"αγαπη\", count='100', tweet_mode = 'extended', include_entities='true',max_id=next_max_id)\n",
        "        print(\"I Got:\", len(results['statuses']), \" tweets\")\n",
        "\n",
        "\n",
        "    \n",
        "    for result in results['statuses']:\n",
        "\n",
        "        tweet_agapi.append(result)\n",
        "\n",
        "    try:\n",
        "      \n",
        "        next_results_url_params = results['search_metadata']['next_results']\n",
        "        next_max_id = next_results_url_params.split('max_id=')[1].split('&')[0]\n",
        "    except:\n",
        "        \n",
        "        break"
      ],
      "metadata": {
        "colab": {
          "base_uri": "https://localhost:8080/"
        },
        "id": "tD6kRLLBtaXN",
        "outputId": "19357773-2084-43c7-9af8-13f0f6926a6e"
      },
      "execution_count": null,
      "outputs": [
        {
          "output_type": "stream",
          "name": "stdout",
          "text": [
            "I Got: 100  tweets\n",
            "I Got: 100  tweets\n",
            "I Got: 100  tweets\n",
            "I Got: 100  tweets\n",
            "I Got: 100  tweets\n",
            "I Got: 100  tweets\n",
            "I Got: 100  tweets\n",
            "I Got: 100  tweets\n",
            "I Got: 100  tweets\n",
            "I Got: 100  tweets\n",
            "I Got: 100  tweets\n",
            "I Got: 100  tweets\n",
            "I Got: 100  tweets\n",
            "I Got: 100  tweets\n",
            "I Got: 100  tweets\n",
            "I Got: 100  tweets\n",
            "I Got: 100  tweets\n",
            "I Got: 100  tweets\n",
            "I Got: 100  tweets\n",
            "I Got: 100  tweets\n",
            "I Got: 100  tweets\n",
            "I Got: 100  tweets\n",
            "I Got: 100  tweets\n",
            "I Got: 100  tweets\n",
            "I Got: 100  tweets\n",
            "I Got: 100  tweets\n",
            "I Got: 100  tweets\n",
            "I Got: 100  tweets\n",
            "I Got: 100  tweets\n",
            "I Got: 100  tweets\n",
            "I Got: 100  tweets\n",
            "I Got: 100  tweets\n",
            "I Got: 100  tweets\n",
            "I Got: 100  tweets\n",
            "I Got: 100  tweets\n",
            "I Got: 100  tweets\n",
            "I Got: 100  tweets\n",
            "I Got: 100  tweets\n",
            "I Got: 100  tweets\n",
            "I Got: 100  tweets\n"
          ]
        }
      ]
    },
    {
      "cell_type": "code",
      "source": [
        "tweets_agapi = pd.DataFrame(tweet_agapi)"
      ],
      "metadata": {
        "id": "1d2pFqQhtxHC"
      },
      "execution_count": null,
      "outputs": []
    },
    {
      "cell_type": "code",
      "source": [
        "tweets_agapi.shape"
      ],
      "metadata": {
        "colab": {
          "base_uri": "https://localhost:8080/"
        },
        "id": "BY9aIeYLt4vq",
        "outputId": "97af175d-53e5-40f3-c17c-abfed2d48f7b"
      },
      "execution_count": null,
      "outputs": [
        {
          "output_type": "execute_result",
          "data": {
            "text/plain": [
              "(4000, 31)"
            ]
          },
          "metadata": {},
          "execution_count": 14
        }
      ]
    },
    {
      "cell_type": "code",
      "source": [
        "tweets_agapi.head(1)"
      ],
      "metadata": {
        "colab": {
          "base_uri": "https://localhost:8080/",
          "height": 226
        },
        "id": "hL9NmGRJt7ZD",
        "outputId": "9beed509-3f79-43ce-d1a6-b5e4b7eacb93"
      },
      "execution_count": null,
      "outputs": [
        {
          "output_type": "execute_result",
          "data": {
            "text/plain": [
              "                       created_at                   id               id_str  \\\n",
              "0  Tue Jun 28 19:13:38 +0000 2022  1541862405709434887  1541862405709434887   \n",
              "\n",
              "                                           full_text  truncated  \\\n",
              "0  RT @drkofans: [#agriesmelisses #ΔΚteam]\\n\\nη π...      False   \n",
              "\n",
              "  display_text_range                                           entities  \\\n",
              "0           [0, 107]  {'hashtags': [{'text': 'agriesmelisses', 'indi...   \n",
              "\n",
              "                                   extended_entities  \\\n",
              "0  {'media': [{'id': 1541800193099808768, 'id_str...   \n",
              "\n",
              "                                            metadata  \\\n",
              "0  {'iso_language_code': 'el', 'result_type': 're...   \n",
              "\n",
              "                                              source  ...  is_quote_status  \\\n",
              "0  <a href=\"http://twitter.com/download/android\" ...  ...            False   \n",
              "\n",
              "  retweet_count  favorite_count favorited retweeted possibly_sensitive lang  \\\n",
              "0            15               0     False     False              False   el   \n",
              "\n",
              "  quoted_status_id quoted_status_id_str quoted_status  \n",
              "0              NaN                  NaN           NaN  \n",
              "\n",
              "[1 rows x 31 columns]"
            ],
            "text/html": [
              "\n",
              "  <div id=\"df-82374372-c18f-4321-9d2f-73a1ff849358\">\n",
              "    <div class=\"colab-df-container\">\n",
              "      <div>\n",
              "<style scoped>\n",
              "    .dataframe tbody tr th:only-of-type {\n",
              "        vertical-align: middle;\n",
              "    }\n",
              "\n",
              "    .dataframe tbody tr th {\n",
              "        vertical-align: top;\n",
              "    }\n",
              "\n",
              "    .dataframe thead th {\n",
              "        text-align: right;\n",
              "    }\n",
              "</style>\n",
              "<table border=\"1\" class=\"dataframe\">\n",
              "  <thead>\n",
              "    <tr style=\"text-align: right;\">\n",
              "      <th></th>\n",
              "      <th>created_at</th>\n",
              "      <th>id</th>\n",
              "      <th>id_str</th>\n",
              "      <th>full_text</th>\n",
              "      <th>truncated</th>\n",
              "      <th>display_text_range</th>\n",
              "      <th>entities</th>\n",
              "      <th>extended_entities</th>\n",
              "      <th>metadata</th>\n",
              "      <th>source</th>\n",
              "      <th>...</th>\n",
              "      <th>is_quote_status</th>\n",
              "      <th>retweet_count</th>\n",
              "      <th>favorite_count</th>\n",
              "      <th>favorited</th>\n",
              "      <th>retweeted</th>\n",
              "      <th>possibly_sensitive</th>\n",
              "      <th>lang</th>\n",
              "      <th>quoted_status_id</th>\n",
              "      <th>quoted_status_id_str</th>\n",
              "      <th>quoted_status</th>\n",
              "    </tr>\n",
              "  </thead>\n",
              "  <tbody>\n",
              "    <tr>\n",
              "      <th>0</th>\n",
              "      <td>Tue Jun 28 19:13:38 +0000 2022</td>\n",
              "      <td>1541862405709434887</td>\n",
              "      <td>1541862405709434887</td>\n",
              "      <td>RT @drkofans: [#agriesmelisses #ΔΚteam]\\n\\nη π...</td>\n",
              "      <td>False</td>\n",
              "      <td>[0, 107]</td>\n",
              "      <td>{'hashtags': [{'text': 'agriesmelisses', 'indi...</td>\n",
              "      <td>{'media': [{'id': 1541800193099808768, 'id_str...</td>\n",
              "      <td>{'iso_language_code': 'el', 'result_type': 're...</td>\n",
              "      <td>&lt;a href=\"http://twitter.com/download/android\" ...</td>\n",
              "      <td>...</td>\n",
              "      <td>False</td>\n",
              "      <td>15</td>\n",
              "      <td>0</td>\n",
              "      <td>False</td>\n",
              "      <td>False</td>\n",
              "      <td>False</td>\n",
              "      <td>el</td>\n",
              "      <td>NaN</td>\n",
              "      <td>NaN</td>\n",
              "      <td>NaN</td>\n",
              "    </tr>\n",
              "  </tbody>\n",
              "</table>\n",
              "<p>1 rows × 31 columns</p>\n",
              "</div>\n",
              "      <button class=\"colab-df-convert\" onclick=\"convertToInteractive('df-82374372-c18f-4321-9d2f-73a1ff849358')\"\n",
              "              title=\"Convert this dataframe to an interactive table.\"\n",
              "              style=\"display:none;\">\n",
              "        \n",
              "  <svg xmlns=\"http://www.w3.org/2000/svg\" height=\"24px\"viewBox=\"0 0 24 24\"\n",
              "       width=\"24px\">\n",
              "    <path d=\"M0 0h24v24H0V0z\" fill=\"none\"/>\n",
              "    <path d=\"M18.56 5.44l.94 2.06.94-2.06 2.06-.94-2.06-.94-.94-2.06-.94 2.06-2.06.94zm-11 1L8.5 8.5l.94-2.06 2.06-.94-2.06-.94L8.5 2.5l-.94 2.06-2.06.94zm10 10l.94 2.06.94-2.06 2.06-.94-2.06-.94-.94-2.06-.94 2.06-2.06.94z\"/><path d=\"M17.41 7.96l-1.37-1.37c-.4-.4-.92-.59-1.43-.59-.52 0-1.04.2-1.43.59L10.3 9.45l-7.72 7.72c-.78.78-.78 2.05 0 2.83L4 21.41c.39.39.9.59 1.41.59.51 0 1.02-.2 1.41-.59l7.78-7.78 2.81-2.81c.8-.78.8-2.07 0-2.86zM5.41 20L4 18.59l7.72-7.72 1.47 1.35L5.41 20z\"/>\n",
              "  </svg>\n",
              "      </button>\n",
              "      \n",
              "  <style>\n",
              "    .colab-df-container {\n",
              "      display:flex;\n",
              "      flex-wrap:wrap;\n",
              "      gap: 12px;\n",
              "    }\n",
              "\n",
              "    .colab-df-convert {\n",
              "      background-color: #E8F0FE;\n",
              "      border: none;\n",
              "      border-radius: 50%;\n",
              "      cursor: pointer;\n",
              "      display: none;\n",
              "      fill: #1967D2;\n",
              "      height: 32px;\n",
              "      padding: 0 0 0 0;\n",
              "      width: 32px;\n",
              "    }\n",
              "\n",
              "    .colab-df-convert:hover {\n",
              "      background-color: #E2EBFA;\n",
              "      box-shadow: 0px 1px 2px rgba(60, 64, 67, 0.3), 0px 1px 3px 1px rgba(60, 64, 67, 0.15);\n",
              "      fill: #174EA6;\n",
              "    }\n",
              "\n",
              "    [theme=dark] .colab-df-convert {\n",
              "      background-color: #3B4455;\n",
              "      fill: #D2E3FC;\n",
              "    }\n",
              "\n",
              "    [theme=dark] .colab-df-convert:hover {\n",
              "      background-color: #434B5C;\n",
              "      box-shadow: 0px 1px 3px 1px rgba(0, 0, 0, 0.15);\n",
              "      filter: drop-shadow(0px 1px 2px rgba(0, 0, 0, 0.3));\n",
              "      fill: #FFFFFF;\n",
              "    }\n",
              "  </style>\n",
              "\n",
              "      <script>\n",
              "        const buttonEl =\n",
              "          document.querySelector('#df-82374372-c18f-4321-9d2f-73a1ff849358 button.colab-df-convert');\n",
              "        buttonEl.style.display =\n",
              "          google.colab.kernel.accessAllowed ? 'block' : 'none';\n",
              "\n",
              "        async function convertToInteractive(key) {\n",
              "          const element = document.querySelector('#df-82374372-c18f-4321-9d2f-73a1ff849358');\n",
              "          const dataTable =\n",
              "            await google.colab.kernel.invokeFunction('convertToInteractive',\n",
              "                                                     [key], {});\n",
              "          if (!dataTable) return;\n",
              "\n",
              "          const docLinkHtml = 'Like what you see? Visit the ' +\n",
              "            '<a target=\"_blank\" href=https://colab.research.google.com/notebooks/data_table.ipynb>data table notebook</a>'\n",
              "            + ' to learn more about interactive tables.';\n",
              "          element.innerHTML = '';\n",
              "          dataTable['output_type'] = 'display_data';\n",
              "          await google.colab.output.renderOutput(dataTable, element);\n",
              "          const docLink = document.createElement('div');\n",
              "          docLink.innerHTML = docLinkHtml;\n",
              "          element.appendChild(docLink);\n",
              "        }\n",
              "      </script>\n",
              "    </div>\n",
              "  </div>\n",
              "  "
            ]
          },
          "metadata": {},
          "execution_count": 15
        }
      ]
    },
    {
      "cell_type": "markdown",
      "source": [
        "Keyword: έρωτας"
      ],
      "metadata": {
        "id": "ZCuLhjC7uV12"
      }
    },
    {
      "cell_type": "code",
      "source": [
        "tweet_erwtas = []\n",
        "MAX_ATTEMPTS = 40\n",
        "COUNT_OF_TWEETS_TO_BE_FETCHED = 10000"
      ],
      "metadata": {
        "id": "WFD1uEfXuZcz"
      },
      "execution_count": null,
      "outputs": []
    },
    {
      "cell_type": "code",
      "source": [
        "for i in range(0,MAX_ATTEMPTS):\n",
        "\n",
        "    if(COUNT_OF_TWEETS_TO_BE_FETCHED < len(tweet_erwtas)):\n",
        "        print(\"We Got \", len(tweet_erwtas), \" tweets!!!\")\n",
        "        break \n",
        "\n",
        "\n",
        "    if(0 == i):\n",
        "        \n",
        "        results = twitter.search(q=\"ερωτας\", count='100', tweet_mode = 'extended')\n",
        "        print(\"I Got:\", len(results['statuses']), \" tweets\")\n",
        "    else:\n",
        "        \n",
        "        results = twitter.search(q=\"ερωτας\", count='100', tweet_mode = 'extended', include_entities='true',max_id=next_max_id)\n",
        "        print(\"I Got:\", len(results['statuses']), \" tweets\")\n",
        "\n",
        "\n",
        "    \n",
        "    for result in results['statuses']:\n",
        "\n",
        "        tweet_erwtas.append(result)\n",
        "\n",
        "    try:\n",
        "      \n",
        "        next_results_url_params = results['search_metadata']['next_results']\n",
        "        next_max_id = next_results_url_params.split('max_id=')[1].split('&')[0]\n",
        "    except:\n",
        "        \n",
        "        break"
      ],
      "metadata": {
        "colab": {
          "base_uri": "https://localhost:8080/"
        },
        "id": "8Hd8QshyugGT",
        "outputId": "42b62a85-22de-474c-cc27-168656504f19"
      },
      "execution_count": null,
      "outputs": [
        {
          "output_type": "stream",
          "name": "stdout",
          "text": [
            "I Got: 100  tweets\n",
            "I Got: 100  tweets\n",
            "I Got: 100  tweets\n",
            "I Got: 100  tweets\n",
            "I Got: 100  tweets\n",
            "I Got: 100  tweets\n",
            "I Got: 100  tweets\n",
            "I Got: 94  tweets\n",
            "I Got: 100  tweets\n",
            "I Got: 100  tweets\n",
            "I Got: 100  tweets\n",
            "I Got: 100  tweets\n",
            "I Got: 100  tweets\n",
            "I Got: 100  tweets\n",
            "I Got: 100  tweets\n",
            "I Got: 100  tweets\n",
            "I Got: 100  tweets\n",
            "I Got: 91  tweets\n",
            "I Got: 100  tweets\n",
            "I Got: 100  tweets\n",
            "I Got: 100  tweets\n",
            "I Got: 100  tweets\n",
            "I Got: 100  tweets\n",
            "I Got: 100  tweets\n",
            "I Got: 100  tweets\n",
            "I Got: 100  tweets\n",
            "I Got: 100  tweets\n",
            "I Got: 100  tweets\n",
            "I Got: 100  tweets\n",
            "I Got: 100  tweets\n",
            "I Got: 100  tweets\n",
            "I Got: 100  tweets\n",
            "I Got: 100  tweets\n",
            "I Got: 100  tweets\n",
            "I Got: 100  tweets\n",
            "I Got: 100  tweets\n",
            "I Got: 100  tweets\n",
            "I Got: 100  tweets\n",
            "I Got: 100  tweets\n",
            "I Got: 100  tweets\n"
          ]
        }
      ]
    },
    {
      "cell_type": "code",
      "source": [
        "tweets_erwtas = pd.DataFrame(tweet_erwtas)"
      ],
      "metadata": {
        "id": "cKS6Sn8uvX7d"
      },
      "execution_count": null,
      "outputs": []
    },
    {
      "cell_type": "code",
      "source": [
        "tweets_erwtas.shape"
      ],
      "metadata": {
        "colab": {
          "base_uri": "https://localhost:8080/"
        },
        "id": "XY3IBIHTvc5j",
        "outputId": "53c6a698-6005-4958-e7c6-26846b884555"
      },
      "execution_count": null,
      "outputs": [
        {
          "output_type": "execute_result",
          "data": {
            "text/plain": [
              "(3985, 31)"
            ]
          },
          "metadata": {},
          "execution_count": 20
        }
      ]
    },
    {
      "cell_type": "code",
      "source": [
        "tweets_erwtas.head(1)"
      ],
      "metadata": {
        "colab": {
          "base_uri": "https://localhost:8080/",
          "height": 244
        },
        "id": "5kKcIcj2vffs",
        "outputId": "5e5197a5-4bb4-4d90-8850-69ec40c0e25d"
      },
      "execution_count": null,
      "outputs": [
        {
          "output_type": "execute_result",
          "data": {
            "text/plain": [
              "                       created_at                   id               id_str  \\\n",
              "0  Tue Jun 28 19:12:28 +0000 2022  1541862112305242114  1541862112305242114   \n",
              "\n",
              "                                           full_text  truncated  \\\n",
              "0  Αναρωτιέται... υπάρχει αλήθεια στον κόσμο τέτο...      False   \n",
              "\n",
              "  display_text_range                                           entities  \\\n",
              "0            [0, 91]  {'hashtags': [{'text': 'sasmos', 'indices': [8...   \n",
              "\n",
              "                                            metadata  \\\n",
              "0  {'iso_language_code': 'el', 'result_type': 're...   \n",
              "\n",
              "                                              source  in_reply_to_status_id  \\\n",
              "0  <a href=\"http://twitter.com/download/android\" ...                    NaN   \n",
              "\n",
              "   ... favorite_count  favorited retweeted lang possibly_sensitive  \\\n",
              "0  ...              0      False     False   el                NaN   \n",
              "\n",
              "  retweeted_status extended_entities quoted_status_id quoted_status_id_str  \\\n",
              "0              NaN               NaN              NaN                  NaN   \n",
              "\n",
              "   quoted_status  \n",
              "0            NaN  \n",
              "\n",
              "[1 rows x 31 columns]"
            ],
            "text/html": [
              "\n",
              "  <div id=\"df-97798518-6c47-49b3-90dc-552bbe2971ae\">\n",
              "    <div class=\"colab-df-container\">\n",
              "      <div>\n",
              "<style scoped>\n",
              "    .dataframe tbody tr th:only-of-type {\n",
              "        vertical-align: middle;\n",
              "    }\n",
              "\n",
              "    .dataframe tbody tr th {\n",
              "        vertical-align: top;\n",
              "    }\n",
              "\n",
              "    .dataframe thead th {\n",
              "        text-align: right;\n",
              "    }\n",
              "</style>\n",
              "<table border=\"1\" class=\"dataframe\">\n",
              "  <thead>\n",
              "    <tr style=\"text-align: right;\">\n",
              "      <th></th>\n",
              "      <th>created_at</th>\n",
              "      <th>id</th>\n",
              "      <th>id_str</th>\n",
              "      <th>full_text</th>\n",
              "      <th>truncated</th>\n",
              "      <th>display_text_range</th>\n",
              "      <th>entities</th>\n",
              "      <th>metadata</th>\n",
              "      <th>source</th>\n",
              "      <th>in_reply_to_status_id</th>\n",
              "      <th>...</th>\n",
              "      <th>favorite_count</th>\n",
              "      <th>favorited</th>\n",
              "      <th>retweeted</th>\n",
              "      <th>lang</th>\n",
              "      <th>possibly_sensitive</th>\n",
              "      <th>retweeted_status</th>\n",
              "      <th>extended_entities</th>\n",
              "      <th>quoted_status_id</th>\n",
              "      <th>quoted_status_id_str</th>\n",
              "      <th>quoted_status</th>\n",
              "    </tr>\n",
              "  </thead>\n",
              "  <tbody>\n",
              "    <tr>\n",
              "      <th>0</th>\n",
              "      <td>Tue Jun 28 19:12:28 +0000 2022</td>\n",
              "      <td>1541862112305242114</td>\n",
              "      <td>1541862112305242114</td>\n",
              "      <td>Αναρωτιέται... υπάρχει αλήθεια στον κόσμο τέτο...</td>\n",
              "      <td>False</td>\n",
              "      <td>[0, 91]</td>\n",
              "      <td>{'hashtags': [{'text': 'sasmos', 'indices': [8...</td>\n",
              "      <td>{'iso_language_code': 'el', 'result_type': 're...</td>\n",
              "      <td>&lt;a href=\"http://twitter.com/download/android\" ...</td>\n",
              "      <td>NaN</td>\n",
              "      <td>...</td>\n",
              "      <td>0</td>\n",
              "      <td>False</td>\n",
              "      <td>False</td>\n",
              "      <td>el</td>\n",
              "      <td>NaN</td>\n",
              "      <td>NaN</td>\n",
              "      <td>NaN</td>\n",
              "      <td>NaN</td>\n",
              "      <td>NaN</td>\n",
              "      <td>NaN</td>\n",
              "    </tr>\n",
              "  </tbody>\n",
              "</table>\n",
              "<p>1 rows × 31 columns</p>\n",
              "</div>\n",
              "      <button class=\"colab-df-convert\" onclick=\"convertToInteractive('df-97798518-6c47-49b3-90dc-552bbe2971ae')\"\n",
              "              title=\"Convert this dataframe to an interactive table.\"\n",
              "              style=\"display:none;\">\n",
              "        \n",
              "  <svg xmlns=\"http://www.w3.org/2000/svg\" height=\"24px\"viewBox=\"0 0 24 24\"\n",
              "       width=\"24px\">\n",
              "    <path d=\"M0 0h24v24H0V0z\" fill=\"none\"/>\n",
              "    <path d=\"M18.56 5.44l.94 2.06.94-2.06 2.06-.94-2.06-.94-.94-2.06-.94 2.06-2.06.94zm-11 1L8.5 8.5l.94-2.06 2.06-.94-2.06-.94L8.5 2.5l-.94 2.06-2.06.94zm10 10l.94 2.06.94-2.06 2.06-.94-2.06-.94-.94-2.06-.94 2.06-2.06.94z\"/><path d=\"M17.41 7.96l-1.37-1.37c-.4-.4-.92-.59-1.43-.59-.52 0-1.04.2-1.43.59L10.3 9.45l-7.72 7.72c-.78.78-.78 2.05 0 2.83L4 21.41c.39.39.9.59 1.41.59.51 0 1.02-.2 1.41-.59l7.78-7.78 2.81-2.81c.8-.78.8-2.07 0-2.86zM5.41 20L4 18.59l7.72-7.72 1.47 1.35L5.41 20z\"/>\n",
              "  </svg>\n",
              "      </button>\n",
              "      \n",
              "  <style>\n",
              "    .colab-df-container {\n",
              "      display:flex;\n",
              "      flex-wrap:wrap;\n",
              "      gap: 12px;\n",
              "    }\n",
              "\n",
              "    .colab-df-convert {\n",
              "      background-color: #E8F0FE;\n",
              "      border: none;\n",
              "      border-radius: 50%;\n",
              "      cursor: pointer;\n",
              "      display: none;\n",
              "      fill: #1967D2;\n",
              "      height: 32px;\n",
              "      padding: 0 0 0 0;\n",
              "      width: 32px;\n",
              "    }\n",
              "\n",
              "    .colab-df-convert:hover {\n",
              "      background-color: #E2EBFA;\n",
              "      box-shadow: 0px 1px 2px rgba(60, 64, 67, 0.3), 0px 1px 3px 1px rgba(60, 64, 67, 0.15);\n",
              "      fill: #174EA6;\n",
              "    }\n",
              "\n",
              "    [theme=dark] .colab-df-convert {\n",
              "      background-color: #3B4455;\n",
              "      fill: #D2E3FC;\n",
              "    }\n",
              "\n",
              "    [theme=dark] .colab-df-convert:hover {\n",
              "      background-color: #434B5C;\n",
              "      box-shadow: 0px 1px 3px 1px rgba(0, 0, 0, 0.15);\n",
              "      filter: drop-shadow(0px 1px 2px rgba(0, 0, 0, 0.3));\n",
              "      fill: #FFFFFF;\n",
              "    }\n",
              "  </style>\n",
              "\n",
              "      <script>\n",
              "        const buttonEl =\n",
              "          document.querySelector('#df-97798518-6c47-49b3-90dc-552bbe2971ae button.colab-df-convert');\n",
              "        buttonEl.style.display =\n",
              "          google.colab.kernel.accessAllowed ? 'block' : 'none';\n",
              "\n",
              "        async function convertToInteractive(key) {\n",
              "          const element = document.querySelector('#df-97798518-6c47-49b3-90dc-552bbe2971ae');\n",
              "          const dataTable =\n",
              "            await google.colab.kernel.invokeFunction('convertToInteractive',\n",
              "                                                     [key], {});\n",
              "          if (!dataTable) return;\n",
              "\n",
              "          const docLinkHtml = 'Like what you see? Visit the ' +\n",
              "            '<a target=\"_blank\" href=https://colab.research.google.com/notebooks/data_table.ipynb>data table notebook</a>'\n",
              "            + ' to learn more about interactive tables.';\n",
              "          element.innerHTML = '';\n",
              "          dataTable['output_type'] = 'display_data';\n",
              "          await google.colab.output.renderOutput(dataTable, element);\n",
              "          const docLink = document.createElement('div');\n",
              "          docLink.innerHTML = docLinkHtml;\n",
              "          element.appendChild(docLink);\n",
              "        }\n",
              "      </script>\n",
              "    </div>\n",
              "  </div>\n",
              "  "
            ]
          },
          "metadata": {},
          "execution_count": 21
        }
      ]
    },
    {
      "cell_type": "markdown",
      "source": [
        "Merging two dataframes"
      ],
      "metadata": {
        "id": "T0MasXtwvwdj"
      }
    },
    {
      "cell_type": "code",
      "source": [
        "tweets = pd.concat([tweets_agapi, tweets_erwtas])"
      ],
      "metadata": {
        "id": "jQnX3Je6v6Dr"
      },
      "execution_count": null,
      "outputs": []
    },
    {
      "cell_type": "code",
      "source": [
        "tweets.shape"
      ],
      "metadata": {
        "colab": {
          "base_uri": "https://localhost:8080/"
        },
        "id": "hfE0CXNcxTU-",
        "outputId": "358f57eb-d8da-4edd-8d82-7942a68434ef"
      },
      "execution_count": null,
      "outputs": [
        {
          "output_type": "execute_result",
          "data": {
            "text/plain": [
              "(7985, 31)"
            ]
          },
          "metadata": {},
          "execution_count": 45
        }
      ]
    },
    {
      "cell_type": "code",
      "source": [
        "tweets.duplicated(subset=['full_text'])"
      ],
      "metadata": {
        "colab": {
          "base_uri": "https://localhost:8080/"
        },
        "id": "JU3MYDJJyahd",
        "outputId": "17bccbac-feb2-42fd-9683-20dacfc67e78"
      },
      "execution_count": null,
      "outputs": [
        {
          "output_type": "execute_result",
          "data": {
            "text/plain": [
              "0       False\n",
              "1       False\n",
              "2       False\n",
              "3       False\n",
              "4       False\n",
              "        ...  \n",
              "3980     True\n",
              "3981     True\n",
              "3982     True\n",
              "3983     True\n",
              "3984     True\n",
              "Length: 7985, dtype: bool"
            ]
          },
          "metadata": {},
          "execution_count": 47
        }
      ]
    },
    {
      "cell_type": "code",
      "source": [
        "tweets.tail(10)"
      ],
      "metadata": {
        "colab": {
          "base_uri": "https://localhost:8080/",
          "height": 942
        },
        "id": "EuLnCjceyxhI",
        "outputId": "e72adc71-c854-4f72-ea0a-9ed828def2a4"
      },
      "execution_count": null,
      "outputs": [
        {
          "output_type": "execute_result",
          "data": {
            "text/plain": [
              "                          created_at                   id  \\\n",
              "3975  Tue Jun 21 13:20:45 +0000 2022  1539236882353119233   \n",
              "3976  Tue Jun 21 13:20:41 +0000 2022  1539236868272816128   \n",
              "3977  Tue Jun 21 13:18:38 +0000 2022  1539236349957505025   \n",
              "3978  Tue Jun 21 13:17:32 +0000 2022  1539236074454654978   \n",
              "3979  Tue Jun 21 13:16:59 +0000 2022  1539235937590382592   \n",
              "3980  Tue Jun 21 13:16:27 +0000 2022  1539235802013646851   \n",
              "3981  Tue Jun 21 13:14:53 +0000 2022  1539235406193086464   \n",
              "3982  Tue Jun 21 13:14:51 +0000 2022  1539235397909217280   \n",
              "3983  Tue Jun 21 13:14:21 +0000 2022  1539235272923267072   \n",
              "3984  Tue Jun 21 13:13:43 +0000 2022  1539235115397693443   \n",
              "\n",
              "                   id_str                                          full_text  \\\n",
              "3975  1539236882353119233  RT @Flick_and_Swish: #sasmos #vasilikos \\nΤο τ...   \n",
              "3976  1539236868272816128  RT @Flick_and_Swish: #sasmos #vasilikos \\nΤο τ...   \n",
              "3977  1539236349957505025  #sasmos #vasilikos \\nΤο τραγούδι της Βασιλικής...   \n",
              "3978  1539236074454654978  Πες μου, πού ήσουν;\\nΜε τι κόσμο;\\nΚαι τι τούς...   \n",
              "3979  1539235937590382592  RT @tomartinitouk: Ένας δυνατός έρωτας που διε...   \n",
              "3980  1539235802013646851  RT @tomartinitouk: Ένας δυνατός έρωτας που διε...   \n",
              "3981  1539235406193086464  RT @JnantinR: Να μας έρθει κ κανας έρωτας μαζί...   \n",
              "3982  1539235397909217280  RT @JnantinR: Να μας έρθει κ κανας έρωτας μαζί...   \n",
              "3983  1539235272923267072  RT @tomartinitouk: Ένας δυνατός έρωτας που διε...   \n",
              "3984  1539235115397693443  RT @tomartinitouk: Ένας δυνατός έρωτας που διε...   \n",
              "\n",
              "      truncated display_text_range  \\\n",
              "3975      False           [0, 140]   \n",
              "3976      False           [0, 140]   \n",
              "3977      False           [0, 121]   \n",
              "3978      False           [0, 220]   \n",
              "3979      False           [0, 123]   \n",
              "3980      False           [0, 123]   \n",
              "3981      False           [0, 100]   \n",
              "3982      False           [0, 100]   \n",
              "3983      False           [0, 123]   \n",
              "3984      False           [0, 123]   \n",
              "\n",
              "                                               entities  \\\n",
              "3975  {'hashtags': [{'text': 'sasmos', 'indices': [2...   \n",
              "3976  {'hashtags': [{'text': 'sasmos', 'indices': [2...   \n",
              "3977  {'hashtags': [{'text': 'sasmos', 'indices': [0...   \n",
              "3978  {'hashtags': [], 'symbols': [], 'user_mentions...   \n",
              "3979  {'hashtags': [{'text': 'AgriesMelisses', 'indi...   \n",
              "3980  {'hashtags': [{'text': 'AgriesMelisses', 'indi...   \n",
              "3981  {'hashtags': [], 'symbols': [], 'user_mentions...   \n",
              "3982  {'hashtags': [], 'symbols': [], 'user_mentions...   \n",
              "3983  {'hashtags': [{'text': 'AgriesMelisses', 'indi...   \n",
              "3984  {'hashtags': [{'text': 'AgriesMelisses', 'indi...   \n",
              "\n",
              "                                      extended_entities  \\\n",
              "3975                                                NaN   \n",
              "3976                                                NaN   \n",
              "3977  {'media': [{'id': 1539236216918495232, 'id_str...   \n",
              "3978  {'media': [{'id': 1539236068360347648, 'id_str...   \n",
              "3979                                                NaN   \n",
              "3980                                                NaN   \n",
              "3981                                                NaN   \n",
              "3982                                                NaN   \n",
              "3983                                                NaN   \n",
              "3984                                                NaN   \n",
              "\n",
              "                                               metadata  \\\n",
              "3975  {'iso_language_code': 'el', 'result_type': 're...   \n",
              "3976  {'iso_language_code': 'el', 'result_type': 're...   \n",
              "3977  {'iso_language_code': 'el', 'result_type': 're...   \n",
              "3978  {'iso_language_code': 'el', 'result_type': 're...   \n",
              "3979  {'iso_language_code': 'el', 'result_type': 're...   \n",
              "3980  {'iso_language_code': 'el', 'result_type': 're...   \n",
              "3981  {'iso_language_code': 'el', 'result_type': 're...   \n",
              "3982  {'iso_language_code': 'el', 'result_type': 're...   \n",
              "3983  {'iso_language_code': 'el', 'result_type': 're...   \n",
              "3984  {'iso_language_code': 'el', 'result_type': 're...   \n",
              "\n",
              "                                                 source  ...  is_quote_status  \\\n",
              "3975  <a href=\"https://mobile.twitter.com\" rel=\"nofo...  ...             True   \n",
              "3976  <a href=\"https://mobile.twitter.com\" rel=\"nofo...  ...             True   \n",
              "3977  <a href=\"https://mobile.twitter.com\" rel=\"nofo...  ...             True   \n",
              "3978  <a href=\"http://twitter.com/#!/download/ipad\" ...  ...            False   \n",
              "3979  <a href=\"http://twitter.com/download/android\" ...  ...             True   \n",
              "3980  <a href=\"http://twitter.com/download/iphone\" r...  ...             True   \n",
              "3981  <a href=\"http://twitter.com/download/android\" ...  ...            False   \n",
              "3982  <a href=\"http://twitter.com/download/android\" ...  ...            False   \n",
              "3983  <a href=\"http://twitter.com/download/android\" ...  ...             True   \n",
              "3984  <a href=\"https://mobile.twitter.com\" rel=\"nofo...  ...             True   \n",
              "\n",
              "     retweet_count  favorite_count favorited retweeted possibly_sensitive  \\\n",
              "3975             7               0     False     False                NaN   \n",
              "3976             7               0     False     False                NaN   \n",
              "3977             7              34     False     False              False   \n",
              "3978             1               7     False     False              False   \n",
              "3979            13               0     False     False                NaN   \n",
              "3980            13               0     False     False                NaN   \n",
              "3981            49               0     False     False                NaN   \n",
              "3982            49               0     False     False                NaN   \n",
              "3983            13               0     False     False                NaN   \n",
              "3984            13               0     False     False                NaN   \n",
              "\n",
              "     lang quoted_status_id quoted_status_id_str  \\\n",
              "3975   el     1.539223e+18  1539222853299474432   \n",
              "3976   el     1.539223e+18  1539222853299474432   \n",
              "3977   el     1.539223e+18  1539222853299474432   \n",
              "3978   el              NaN                  NaN   \n",
              "3979   el     1.539228e+18  1539228212844277761   \n",
              "3980   el     1.539228e+18  1539228212844277761   \n",
              "3981   el              NaN                  NaN   \n",
              "3982   el              NaN                  NaN   \n",
              "3983   el     1.539228e+18  1539228212844277761   \n",
              "3984   el     1.539228e+18  1539228212844277761   \n",
              "\n",
              "                                          quoted_status  \n",
              "3975                                                NaN  \n",
              "3976                                                NaN  \n",
              "3977  {'created_at': 'Tue Jun 21 12:25:00 +0000 2022...  \n",
              "3978                                                NaN  \n",
              "3979                                                NaN  \n",
              "3980                                                NaN  \n",
              "3981                                                NaN  \n",
              "3982                                                NaN  \n",
              "3983                                                NaN  \n",
              "3984                                                NaN  \n",
              "\n",
              "[10 rows x 31 columns]"
            ],
            "text/html": [
              "\n",
              "  <div id=\"df-b4fb2a45-1019-4ac8-9c73-d3ffaf5dd440\">\n",
              "    <div class=\"colab-df-container\">\n",
              "      <div>\n",
              "<style scoped>\n",
              "    .dataframe tbody tr th:only-of-type {\n",
              "        vertical-align: middle;\n",
              "    }\n",
              "\n",
              "    .dataframe tbody tr th {\n",
              "        vertical-align: top;\n",
              "    }\n",
              "\n",
              "    .dataframe thead th {\n",
              "        text-align: right;\n",
              "    }\n",
              "</style>\n",
              "<table border=\"1\" class=\"dataframe\">\n",
              "  <thead>\n",
              "    <tr style=\"text-align: right;\">\n",
              "      <th></th>\n",
              "      <th>created_at</th>\n",
              "      <th>id</th>\n",
              "      <th>id_str</th>\n",
              "      <th>full_text</th>\n",
              "      <th>truncated</th>\n",
              "      <th>display_text_range</th>\n",
              "      <th>entities</th>\n",
              "      <th>extended_entities</th>\n",
              "      <th>metadata</th>\n",
              "      <th>source</th>\n",
              "      <th>...</th>\n",
              "      <th>is_quote_status</th>\n",
              "      <th>retweet_count</th>\n",
              "      <th>favorite_count</th>\n",
              "      <th>favorited</th>\n",
              "      <th>retweeted</th>\n",
              "      <th>possibly_sensitive</th>\n",
              "      <th>lang</th>\n",
              "      <th>quoted_status_id</th>\n",
              "      <th>quoted_status_id_str</th>\n",
              "      <th>quoted_status</th>\n",
              "    </tr>\n",
              "  </thead>\n",
              "  <tbody>\n",
              "    <tr>\n",
              "      <th>3975</th>\n",
              "      <td>Tue Jun 21 13:20:45 +0000 2022</td>\n",
              "      <td>1539236882353119233</td>\n",
              "      <td>1539236882353119233</td>\n",
              "      <td>RT @Flick_and_Swish: #sasmos #vasilikos \\nΤο τ...</td>\n",
              "      <td>False</td>\n",
              "      <td>[0, 140]</td>\n",
              "      <td>{'hashtags': [{'text': 'sasmos', 'indices': [2...</td>\n",
              "      <td>NaN</td>\n",
              "      <td>{'iso_language_code': 'el', 'result_type': 're...</td>\n",
              "      <td>&lt;a href=\"https://mobile.twitter.com\" rel=\"nofo...</td>\n",
              "      <td>...</td>\n",
              "      <td>True</td>\n",
              "      <td>7</td>\n",
              "      <td>0</td>\n",
              "      <td>False</td>\n",
              "      <td>False</td>\n",
              "      <td>NaN</td>\n",
              "      <td>el</td>\n",
              "      <td>1.539223e+18</td>\n",
              "      <td>1539222853299474432</td>\n",
              "      <td>NaN</td>\n",
              "    </tr>\n",
              "    <tr>\n",
              "      <th>3976</th>\n",
              "      <td>Tue Jun 21 13:20:41 +0000 2022</td>\n",
              "      <td>1539236868272816128</td>\n",
              "      <td>1539236868272816128</td>\n",
              "      <td>RT @Flick_and_Swish: #sasmos #vasilikos \\nΤο τ...</td>\n",
              "      <td>False</td>\n",
              "      <td>[0, 140]</td>\n",
              "      <td>{'hashtags': [{'text': 'sasmos', 'indices': [2...</td>\n",
              "      <td>NaN</td>\n",
              "      <td>{'iso_language_code': 'el', 'result_type': 're...</td>\n",
              "      <td>&lt;a href=\"https://mobile.twitter.com\" rel=\"nofo...</td>\n",
              "      <td>...</td>\n",
              "      <td>True</td>\n",
              "      <td>7</td>\n",
              "      <td>0</td>\n",
              "      <td>False</td>\n",
              "      <td>False</td>\n",
              "      <td>NaN</td>\n",
              "      <td>el</td>\n",
              "      <td>1.539223e+18</td>\n",
              "      <td>1539222853299474432</td>\n",
              "      <td>NaN</td>\n",
              "    </tr>\n",
              "    <tr>\n",
              "      <th>3977</th>\n",
              "      <td>Tue Jun 21 13:18:38 +0000 2022</td>\n",
              "      <td>1539236349957505025</td>\n",
              "      <td>1539236349957505025</td>\n",
              "      <td>#sasmos #vasilikos \\nΤο τραγούδι της Βασιλικής...</td>\n",
              "      <td>False</td>\n",
              "      <td>[0, 121]</td>\n",
              "      <td>{'hashtags': [{'text': 'sasmos', 'indices': [0...</td>\n",
              "      <td>{'media': [{'id': 1539236216918495232, 'id_str...</td>\n",
              "      <td>{'iso_language_code': 'el', 'result_type': 're...</td>\n",
              "      <td>&lt;a href=\"https://mobile.twitter.com\" rel=\"nofo...</td>\n",
              "      <td>...</td>\n",
              "      <td>True</td>\n",
              "      <td>7</td>\n",
              "      <td>34</td>\n",
              "      <td>False</td>\n",
              "      <td>False</td>\n",
              "      <td>False</td>\n",
              "      <td>el</td>\n",
              "      <td>1.539223e+18</td>\n",
              "      <td>1539222853299474432</td>\n",
              "      <td>{'created_at': 'Tue Jun 21 12:25:00 +0000 2022...</td>\n",
              "    </tr>\n",
              "    <tr>\n",
              "      <th>3978</th>\n",
              "      <td>Tue Jun 21 13:17:32 +0000 2022</td>\n",
              "      <td>1539236074454654978</td>\n",
              "      <td>1539236074454654978</td>\n",
              "      <td>Πες μου, πού ήσουν;\\nΜε τι κόσμο;\\nΚαι τι τούς...</td>\n",
              "      <td>False</td>\n",
              "      <td>[0, 220]</td>\n",
              "      <td>{'hashtags': [], 'symbols': [], 'user_mentions...</td>\n",
              "      <td>{'media': [{'id': 1539236068360347648, 'id_str...</td>\n",
              "      <td>{'iso_language_code': 'el', 'result_type': 're...</td>\n",
              "      <td>&lt;a href=\"http://twitter.com/#!/download/ipad\" ...</td>\n",
              "      <td>...</td>\n",
              "      <td>False</td>\n",
              "      <td>1</td>\n",
              "      <td>7</td>\n",
              "      <td>False</td>\n",
              "      <td>False</td>\n",
              "      <td>False</td>\n",
              "      <td>el</td>\n",
              "      <td>NaN</td>\n",
              "      <td>NaN</td>\n",
              "      <td>NaN</td>\n",
              "    </tr>\n",
              "    <tr>\n",
              "      <th>3979</th>\n",
              "      <td>Tue Jun 21 13:16:59 +0000 2022</td>\n",
              "      <td>1539235937590382592</td>\n",
              "      <td>1539235937590382592</td>\n",
              "      <td>RT @tomartinitouk: Ένας δυνατός έρωτας που διε...</td>\n",
              "      <td>False</td>\n",
              "      <td>[0, 123]</td>\n",
              "      <td>{'hashtags': [{'text': 'AgriesMelisses', 'indi...</td>\n",
              "      <td>NaN</td>\n",
              "      <td>{'iso_language_code': 'el', 'result_type': 're...</td>\n",
              "      <td>&lt;a href=\"http://twitter.com/download/android\" ...</td>\n",
              "      <td>...</td>\n",
              "      <td>True</td>\n",
              "      <td>13</td>\n",
              "      <td>0</td>\n",
              "      <td>False</td>\n",
              "      <td>False</td>\n",
              "      <td>NaN</td>\n",
              "      <td>el</td>\n",
              "      <td>1.539228e+18</td>\n",
              "      <td>1539228212844277761</td>\n",
              "      <td>NaN</td>\n",
              "    </tr>\n",
              "    <tr>\n",
              "      <th>3980</th>\n",
              "      <td>Tue Jun 21 13:16:27 +0000 2022</td>\n",
              "      <td>1539235802013646851</td>\n",
              "      <td>1539235802013646851</td>\n",
              "      <td>RT @tomartinitouk: Ένας δυνατός έρωτας που διε...</td>\n",
              "      <td>False</td>\n",
              "      <td>[0, 123]</td>\n",
              "      <td>{'hashtags': [{'text': 'AgriesMelisses', 'indi...</td>\n",
              "      <td>NaN</td>\n",
              "      <td>{'iso_language_code': 'el', 'result_type': 're...</td>\n",
              "      <td>&lt;a href=\"http://twitter.com/download/iphone\" r...</td>\n",
              "      <td>...</td>\n",
              "      <td>True</td>\n",
              "      <td>13</td>\n",
              "      <td>0</td>\n",
              "      <td>False</td>\n",
              "      <td>False</td>\n",
              "      <td>NaN</td>\n",
              "      <td>el</td>\n",
              "      <td>1.539228e+18</td>\n",
              "      <td>1539228212844277761</td>\n",
              "      <td>NaN</td>\n",
              "    </tr>\n",
              "    <tr>\n",
              "      <th>3981</th>\n",
              "      <td>Tue Jun 21 13:14:53 +0000 2022</td>\n",
              "      <td>1539235406193086464</td>\n",
              "      <td>1539235406193086464</td>\n",
              "      <td>RT @JnantinR: Να μας έρθει κ κανας έρωτας μαζί...</td>\n",
              "      <td>False</td>\n",
              "      <td>[0, 100]</td>\n",
              "      <td>{'hashtags': [], 'symbols': [], 'user_mentions...</td>\n",
              "      <td>NaN</td>\n",
              "      <td>{'iso_language_code': 'el', 'result_type': 're...</td>\n",
              "      <td>&lt;a href=\"http://twitter.com/download/android\" ...</td>\n",
              "      <td>...</td>\n",
              "      <td>False</td>\n",
              "      <td>49</td>\n",
              "      <td>0</td>\n",
              "      <td>False</td>\n",
              "      <td>False</td>\n",
              "      <td>NaN</td>\n",
              "      <td>el</td>\n",
              "      <td>NaN</td>\n",
              "      <td>NaN</td>\n",
              "      <td>NaN</td>\n",
              "    </tr>\n",
              "    <tr>\n",
              "      <th>3982</th>\n",
              "      <td>Tue Jun 21 13:14:51 +0000 2022</td>\n",
              "      <td>1539235397909217280</td>\n",
              "      <td>1539235397909217280</td>\n",
              "      <td>RT @JnantinR: Να μας έρθει κ κανας έρωτας μαζί...</td>\n",
              "      <td>False</td>\n",
              "      <td>[0, 100]</td>\n",
              "      <td>{'hashtags': [], 'symbols': [], 'user_mentions...</td>\n",
              "      <td>NaN</td>\n",
              "      <td>{'iso_language_code': 'el', 'result_type': 're...</td>\n",
              "      <td>&lt;a href=\"http://twitter.com/download/android\" ...</td>\n",
              "      <td>...</td>\n",
              "      <td>False</td>\n",
              "      <td>49</td>\n",
              "      <td>0</td>\n",
              "      <td>False</td>\n",
              "      <td>False</td>\n",
              "      <td>NaN</td>\n",
              "      <td>el</td>\n",
              "      <td>NaN</td>\n",
              "      <td>NaN</td>\n",
              "      <td>NaN</td>\n",
              "    </tr>\n",
              "    <tr>\n",
              "      <th>3983</th>\n",
              "      <td>Tue Jun 21 13:14:21 +0000 2022</td>\n",
              "      <td>1539235272923267072</td>\n",
              "      <td>1539235272923267072</td>\n",
              "      <td>RT @tomartinitouk: Ένας δυνατός έρωτας που διε...</td>\n",
              "      <td>False</td>\n",
              "      <td>[0, 123]</td>\n",
              "      <td>{'hashtags': [{'text': 'AgriesMelisses', 'indi...</td>\n",
              "      <td>NaN</td>\n",
              "      <td>{'iso_language_code': 'el', 'result_type': 're...</td>\n",
              "      <td>&lt;a href=\"http://twitter.com/download/android\" ...</td>\n",
              "      <td>...</td>\n",
              "      <td>True</td>\n",
              "      <td>13</td>\n",
              "      <td>0</td>\n",
              "      <td>False</td>\n",
              "      <td>False</td>\n",
              "      <td>NaN</td>\n",
              "      <td>el</td>\n",
              "      <td>1.539228e+18</td>\n",
              "      <td>1539228212844277761</td>\n",
              "      <td>NaN</td>\n",
              "    </tr>\n",
              "    <tr>\n",
              "      <th>3984</th>\n",
              "      <td>Tue Jun 21 13:13:43 +0000 2022</td>\n",
              "      <td>1539235115397693443</td>\n",
              "      <td>1539235115397693443</td>\n",
              "      <td>RT @tomartinitouk: Ένας δυνατός έρωτας που διε...</td>\n",
              "      <td>False</td>\n",
              "      <td>[0, 123]</td>\n",
              "      <td>{'hashtags': [{'text': 'AgriesMelisses', 'indi...</td>\n",
              "      <td>NaN</td>\n",
              "      <td>{'iso_language_code': 'el', 'result_type': 're...</td>\n",
              "      <td>&lt;a href=\"https://mobile.twitter.com\" rel=\"nofo...</td>\n",
              "      <td>...</td>\n",
              "      <td>True</td>\n",
              "      <td>13</td>\n",
              "      <td>0</td>\n",
              "      <td>False</td>\n",
              "      <td>False</td>\n",
              "      <td>NaN</td>\n",
              "      <td>el</td>\n",
              "      <td>1.539228e+18</td>\n",
              "      <td>1539228212844277761</td>\n",
              "      <td>NaN</td>\n",
              "    </tr>\n",
              "  </tbody>\n",
              "</table>\n",
              "<p>10 rows × 31 columns</p>\n",
              "</div>\n",
              "      <button class=\"colab-df-convert\" onclick=\"convertToInteractive('df-b4fb2a45-1019-4ac8-9c73-d3ffaf5dd440')\"\n",
              "              title=\"Convert this dataframe to an interactive table.\"\n",
              "              style=\"display:none;\">\n",
              "        \n",
              "  <svg xmlns=\"http://www.w3.org/2000/svg\" height=\"24px\"viewBox=\"0 0 24 24\"\n",
              "       width=\"24px\">\n",
              "    <path d=\"M0 0h24v24H0V0z\" fill=\"none\"/>\n",
              "    <path d=\"M18.56 5.44l.94 2.06.94-2.06 2.06-.94-2.06-.94-.94-2.06-.94 2.06-2.06.94zm-11 1L8.5 8.5l.94-2.06 2.06-.94-2.06-.94L8.5 2.5l-.94 2.06-2.06.94zm10 10l.94 2.06.94-2.06 2.06-.94-2.06-.94-.94-2.06-.94 2.06-2.06.94z\"/><path d=\"M17.41 7.96l-1.37-1.37c-.4-.4-.92-.59-1.43-.59-.52 0-1.04.2-1.43.59L10.3 9.45l-7.72 7.72c-.78.78-.78 2.05 0 2.83L4 21.41c.39.39.9.59 1.41.59.51 0 1.02-.2 1.41-.59l7.78-7.78 2.81-2.81c.8-.78.8-2.07 0-2.86zM5.41 20L4 18.59l7.72-7.72 1.47 1.35L5.41 20z\"/>\n",
              "  </svg>\n",
              "      </button>\n",
              "      \n",
              "  <style>\n",
              "    .colab-df-container {\n",
              "      display:flex;\n",
              "      flex-wrap:wrap;\n",
              "      gap: 12px;\n",
              "    }\n",
              "\n",
              "    .colab-df-convert {\n",
              "      background-color: #E8F0FE;\n",
              "      border: none;\n",
              "      border-radius: 50%;\n",
              "      cursor: pointer;\n",
              "      display: none;\n",
              "      fill: #1967D2;\n",
              "      height: 32px;\n",
              "      padding: 0 0 0 0;\n",
              "      width: 32px;\n",
              "    }\n",
              "\n",
              "    .colab-df-convert:hover {\n",
              "      background-color: #E2EBFA;\n",
              "      box-shadow: 0px 1px 2px rgba(60, 64, 67, 0.3), 0px 1px 3px 1px rgba(60, 64, 67, 0.15);\n",
              "      fill: #174EA6;\n",
              "    }\n",
              "\n",
              "    [theme=dark] .colab-df-convert {\n",
              "      background-color: #3B4455;\n",
              "      fill: #D2E3FC;\n",
              "    }\n",
              "\n",
              "    [theme=dark] .colab-df-convert:hover {\n",
              "      background-color: #434B5C;\n",
              "      box-shadow: 0px 1px 3px 1px rgba(0, 0, 0, 0.15);\n",
              "      filter: drop-shadow(0px 1px 2px rgba(0, 0, 0, 0.3));\n",
              "      fill: #FFFFFF;\n",
              "    }\n",
              "  </style>\n",
              "\n",
              "      <script>\n",
              "        const buttonEl =\n",
              "          document.querySelector('#df-b4fb2a45-1019-4ac8-9c73-d3ffaf5dd440 button.colab-df-convert');\n",
              "        buttonEl.style.display =\n",
              "          google.colab.kernel.accessAllowed ? 'block' : 'none';\n",
              "\n",
              "        async function convertToInteractive(key) {\n",
              "          const element = document.querySelector('#df-b4fb2a45-1019-4ac8-9c73-d3ffaf5dd440');\n",
              "          const dataTable =\n",
              "            await google.colab.kernel.invokeFunction('convertToInteractive',\n",
              "                                                     [key], {});\n",
              "          if (!dataTable) return;\n",
              "\n",
              "          const docLinkHtml = 'Like what you see? Visit the ' +\n",
              "            '<a target=\"_blank\" href=https://colab.research.google.com/notebooks/data_table.ipynb>data table notebook</a>'\n",
              "            + ' to learn more about interactive tables.';\n",
              "          element.innerHTML = '';\n",
              "          dataTable['output_type'] = 'display_data';\n",
              "          await google.colab.output.renderOutput(dataTable, element);\n",
              "          const docLink = document.createElement('div');\n",
              "          docLink.innerHTML = docLinkHtml;\n",
              "          element.appendChild(docLink);\n",
              "        }\n",
              "      </script>\n",
              "    </div>\n",
              "  </div>\n",
              "  "
            ]
          },
          "metadata": {},
          "execution_count": 48
        }
      ]
    },
    {
      "cell_type": "code",
      "source": [
        "#throwing duplicates (RTs, same tweets etc)\n",
        "tweets.drop_duplicates(subset=['full_text'], keep='first', inplace = True)\n",
        "tweets.reset_index(drop=True, inplace = True)"
      ],
      "metadata": {
        "id": "2T9QzxVYxY5-"
      },
      "execution_count": null,
      "outputs": []
    },
    {
      "cell_type": "code",
      "source": [
        "tweets.shape"
      ],
      "metadata": {
        "colab": {
          "base_uri": "https://localhost:8080/"
        },
        "id": "i66YhIg8xkc4",
        "outputId": "14993553-c68f-4df2-f0a5-6a83ed4f94e5"
      },
      "execution_count": null,
      "outputs": [
        {
          "output_type": "execute_result",
          "data": {
            "text/plain": [
              "(2699, 31)"
            ]
          },
          "metadata": {},
          "execution_count": 50
        }
      ]
    },
    {
      "cell_type": "markdown",
      "source": [
        "Cleaning"
      ],
      "metadata": {
        "id": "Rk9l3RVS0BGC"
      }
    },
    {
      "cell_type": "code",
      "source": [
        "tweets.dtypes"
      ],
      "metadata": {
        "colab": {
          "base_uri": "https://localhost:8080/"
        },
        "id": "WM1mIfko0VYz",
        "outputId": "a7974ccf-8bb5-405f-89e8-34d105d0771f"
      },
      "execution_count": null,
      "outputs": [
        {
          "output_type": "execute_result",
          "data": {
            "text/plain": [
              "created_at                    object\n",
              "id                             int64\n",
              "id_str                        object\n",
              "full_text                     object\n",
              "truncated                       bool\n",
              "display_text_range            object\n",
              "entities                      object\n",
              "extended_entities             object\n",
              "metadata                      object\n",
              "source                        object\n",
              "in_reply_to_status_id        float64\n",
              "in_reply_to_status_id_str     object\n",
              "in_reply_to_user_id          float64\n",
              "in_reply_to_user_id_str       object\n",
              "in_reply_to_screen_name       object\n",
              "user                          object\n",
              "geo                           object\n",
              "coordinates                   object\n",
              "place                         object\n",
              "contributors                  object\n",
              "retweeted_status              object\n",
              "is_quote_status                 bool\n",
              "retweet_count                  int64\n",
              "favorite_count                 int64\n",
              "favorited                       bool\n",
              "retweeted                       bool\n",
              "possibly_sensitive            object\n",
              "lang                          object\n",
              "quoted_status_id             float64\n",
              "quoted_status_id_str          object\n",
              "quoted_status                 object\n",
              "dtype: object"
            ]
          },
          "metadata": {},
          "execution_count": 51
        }
      ]
    },
    {
      "cell_type": "code",
      "source": [
        "tweets_short = tweets[['created_at','full_text', 'source', 'favorite_count', 'retweet_count']]"
      ],
      "metadata": {
        "id": "Vo5JhwSUzm8u"
      },
      "execution_count": null,
      "outputs": []
    },
    {
      "cell_type": "code",
      "source": [
        "tweets_short = tweets_short.rename(columns={'created_at': 'date', \n",
        "                                            'full_text': 'text', \n",
        "                                            'url': 'source', \n",
        "                                            'favorite_count':'likes', \n",
        "                                            'retweet_count':'shares'} )"
      ],
      "metadata": {
        "id": "975sTJA601k9"
      },
      "execution_count": null,
      "outputs": []
    },
    {
      "cell_type": "code",
      "source": [
        "#Looking for broken rows\n",
        "tweets_short[tweets_short['date'].str.contains('0000')==False] "
      ],
      "metadata": {
        "colab": {
          "base_uri": "https://localhost:8080/",
          "height": 49
        },
        "id": "Tu1JrEA41GER",
        "outputId": "70fcfc6a-d123-46f0-f2e0-159c508d64c7"
      },
      "execution_count": null,
      "outputs": [
        {
          "output_type": "execute_result",
          "data": {
            "text/plain": [
              "Empty DataFrame\n",
              "Columns: [date, text, source, likes, shares]\n",
              "Index: []"
            ],
            "text/html": [
              "\n",
              "  <div id=\"df-91b28254-d5a1-4895-9f8f-2f9d1f00df8b\">\n",
              "    <div class=\"colab-df-container\">\n",
              "      <div>\n",
              "<style scoped>\n",
              "    .dataframe tbody tr th:only-of-type {\n",
              "        vertical-align: middle;\n",
              "    }\n",
              "\n",
              "    .dataframe tbody tr th {\n",
              "        vertical-align: top;\n",
              "    }\n",
              "\n",
              "    .dataframe thead th {\n",
              "        text-align: right;\n",
              "    }\n",
              "</style>\n",
              "<table border=\"1\" class=\"dataframe\">\n",
              "  <thead>\n",
              "    <tr style=\"text-align: right;\">\n",
              "      <th></th>\n",
              "      <th>date</th>\n",
              "      <th>text</th>\n",
              "      <th>source</th>\n",
              "      <th>likes</th>\n",
              "      <th>shares</th>\n",
              "    </tr>\n",
              "  </thead>\n",
              "  <tbody>\n",
              "  </tbody>\n",
              "</table>\n",
              "</div>\n",
              "      <button class=\"colab-df-convert\" onclick=\"convertToInteractive('df-91b28254-d5a1-4895-9f8f-2f9d1f00df8b')\"\n",
              "              title=\"Convert this dataframe to an interactive table.\"\n",
              "              style=\"display:none;\">\n",
              "        \n",
              "  <svg xmlns=\"http://www.w3.org/2000/svg\" height=\"24px\"viewBox=\"0 0 24 24\"\n",
              "       width=\"24px\">\n",
              "    <path d=\"M0 0h24v24H0V0z\" fill=\"none\"/>\n",
              "    <path d=\"M18.56 5.44l.94 2.06.94-2.06 2.06-.94-2.06-.94-.94-2.06-.94 2.06-2.06.94zm-11 1L8.5 8.5l.94-2.06 2.06-.94-2.06-.94L8.5 2.5l-.94 2.06-2.06.94zm10 10l.94 2.06.94-2.06 2.06-.94-2.06-.94-.94-2.06-.94 2.06-2.06.94z\"/><path d=\"M17.41 7.96l-1.37-1.37c-.4-.4-.92-.59-1.43-.59-.52 0-1.04.2-1.43.59L10.3 9.45l-7.72 7.72c-.78.78-.78 2.05 0 2.83L4 21.41c.39.39.9.59 1.41.59.51 0 1.02-.2 1.41-.59l7.78-7.78 2.81-2.81c.8-.78.8-2.07 0-2.86zM5.41 20L4 18.59l7.72-7.72 1.47 1.35L5.41 20z\"/>\n",
              "  </svg>\n",
              "      </button>\n",
              "      \n",
              "  <style>\n",
              "    .colab-df-container {\n",
              "      display:flex;\n",
              "      flex-wrap:wrap;\n",
              "      gap: 12px;\n",
              "    }\n",
              "\n",
              "    .colab-df-convert {\n",
              "      background-color: #E8F0FE;\n",
              "      border: none;\n",
              "      border-radius: 50%;\n",
              "      cursor: pointer;\n",
              "      display: none;\n",
              "      fill: #1967D2;\n",
              "      height: 32px;\n",
              "      padding: 0 0 0 0;\n",
              "      width: 32px;\n",
              "    }\n",
              "\n",
              "    .colab-df-convert:hover {\n",
              "      background-color: #E2EBFA;\n",
              "      box-shadow: 0px 1px 2px rgba(60, 64, 67, 0.3), 0px 1px 3px 1px rgba(60, 64, 67, 0.15);\n",
              "      fill: #174EA6;\n",
              "    }\n",
              "\n",
              "    [theme=dark] .colab-df-convert {\n",
              "      background-color: #3B4455;\n",
              "      fill: #D2E3FC;\n",
              "    }\n",
              "\n",
              "    [theme=dark] .colab-df-convert:hover {\n",
              "      background-color: #434B5C;\n",
              "      box-shadow: 0px 1px 3px 1px rgba(0, 0, 0, 0.15);\n",
              "      filter: drop-shadow(0px 1px 2px rgba(0, 0, 0, 0.3));\n",
              "      fill: #FFFFFF;\n",
              "    }\n",
              "  </style>\n",
              "\n",
              "      <script>\n",
              "        const buttonEl =\n",
              "          document.querySelector('#df-91b28254-d5a1-4895-9f8f-2f9d1f00df8b button.colab-df-convert');\n",
              "        buttonEl.style.display =\n",
              "          google.colab.kernel.accessAllowed ? 'block' : 'none';\n",
              "\n",
              "        async function convertToInteractive(key) {\n",
              "          const element = document.querySelector('#df-91b28254-d5a1-4895-9f8f-2f9d1f00df8b');\n",
              "          const dataTable =\n",
              "            await google.colab.kernel.invokeFunction('convertToInteractive',\n",
              "                                                     [key], {});\n",
              "          if (!dataTable) return;\n",
              "\n",
              "          const docLinkHtml = 'Like what you see? Visit the ' +\n",
              "            '<a target=\"_blank\" href=https://colab.research.google.com/notebooks/data_table.ipynb>data table notebook</a>'\n",
              "            + ' to learn more about interactive tables.';\n",
              "          element.innerHTML = '';\n",
              "          dataTable['output_type'] = 'display_data';\n",
              "          await google.colab.output.renderOutput(dataTable, element);\n",
              "          const docLink = document.createElement('div');\n",
              "          docLink.innerHTML = docLinkHtml;\n",
              "          element.appendChild(docLink);\n",
              "        }\n",
              "      </script>\n",
              "    </div>\n",
              "  </div>\n",
              "  "
            ]
          },
          "metadata": {},
          "execution_count": 54
        }
      ]
    },
    {
      "cell_type": "code",
      "source": [
        "tweets_short['date'] = pd.to_datetime(tweets_short['date'], format='%a %b %d %H:%M:%S +0000 %Y')"
      ],
      "metadata": {
        "id": "ZXcUFc5I1ZE3"
      },
      "execution_count": null,
      "outputs": []
    },
    {
      "cell_type": "code",
      "source": [
        "tweets_short['year'] = pd.DatetimeIndex(tweets_short['date']).year\n",
        "tweets_short['month'] = pd.DatetimeIndex(tweets_short['date']).month\n",
        "tweets_short['day'] = pd.DatetimeIndex(tweets_short['date']).day"
      ],
      "metadata": {
        "id": "qu105DkD1kuQ"
      },
      "execution_count": null,
      "outputs": []
    },
    {
      "cell_type": "code",
      "source": [
        "tweets_short['text'] = tweets_short['text'].str.replace(r'https?:\\/\\/.*[\\r\\n]*',\" \")"
      ],
      "metadata": {
        "colab": {
          "base_uri": "https://localhost:8080/"
        },
        "id": "ltGmmlXG1uoa",
        "outputId": "ff2225d7-f776-4ead-d5ba-776d5e210ed4"
      },
      "execution_count": null,
      "outputs": [
        {
          "output_type": "stream",
          "name": "stderr",
          "text": [
            "/usr/local/lib/python3.7/dist-packages/ipykernel_launcher.py:1: FutureWarning: The default value of regex will change from True to False in a future version.\n",
            "  \"\"\"Entry point for launching an IPython kernel.\n"
          ]
        }
      ]
    },
    {
      "cell_type": "code",
      "source": [
        "tweets_short.head(1)"
      ],
      "metadata": {
        "colab": {
          "base_uri": "https://localhost:8080/",
          "height": 81
        },
        "id": "EoXZGazC144q",
        "outputId": "15bf3455-0a04-4e36-d937-9d3a4d542af5"
      },
      "execution_count": null,
      "outputs": [
        {
          "output_type": "execute_result",
          "data": {
            "text/plain": [
              "                 date                                               text  \\\n",
              "0 2022-06-28 19:13:38  RT @drkofans: [#agriesmelisses #ΔΚteam]\\n\\nη π...   \n",
              "\n",
              "                                              source  likes  shares  year  \\\n",
              "0  <a href=\"http://twitter.com/download/android\" ...      0      15  2022   \n",
              "\n",
              "   month  day  \n",
              "0      6   28  "
            ],
            "text/html": [
              "\n",
              "  <div id=\"df-d3e6a600-714a-438b-a99d-938ccd826f04\">\n",
              "    <div class=\"colab-df-container\">\n",
              "      <div>\n",
              "<style scoped>\n",
              "    .dataframe tbody tr th:only-of-type {\n",
              "        vertical-align: middle;\n",
              "    }\n",
              "\n",
              "    .dataframe tbody tr th {\n",
              "        vertical-align: top;\n",
              "    }\n",
              "\n",
              "    .dataframe thead th {\n",
              "        text-align: right;\n",
              "    }\n",
              "</style>\n",
              "<table border=\"1\" class=\"dataframe\">\n",
              "  <thead>\n",
              "    <tr style=\"text-align: right;\">\n",
              "      <th></th>\n",
              "      <th>date</th>\n",
              "      <th>text</th>\n",
              "      <th>source</th>\n",
              "      <th>likes</th>\n",
              "      <th>shares</th>\n",
              "      <th>year</th>\n",
              "      <th>month</th>\n",
              "      <th>day</th>\n",
              "    </tr>\n",
              "  </thead>\n",
              "  <tbody>\n",
              "    <tr>\n",
              "      <th>0</th>\n",
              "      <td>2022-06-28 19:13:38</td>\n",
              "      <td>RT @drkofans: [#agriesmelisses #ΔΚteam]\\n\\nη π...</td>\n",
              "      <td>&lt;a href=\"http://twitter.com/download/android\" ...</td>\n",
              "      <td>0</td>\n",
              "      <td>15</td>\n",
              "      <td>2022</td>\n",
              "      <td>6</td>\n",
              "      <td>28</td>\n",
              "    </tr>\n",
              "  </tbody>\n",
              "</table>\n",
              "</div>\n",
              "      <button class=\"colab-df-convert\" onclick=\"convertToInteractive('df-d3e6a600-714a-438b-a99d-938ccd826f04')\"\n",
              "              title=\"Convert this dataframe to an interactive table.\"\n",
              "              style=\"display:none;\">\n",
              "        \n",
              "  <svg xmlns=\"http://www.w3.org/2000/svg\" height=\"24px\"viewBox=\"0 0 24 24\"\n",
              "       width=\"24px\">\n",
              "    <path d=\"M0 0h24v24H0V0z\" fill=\"none\"/>\n",
              "    <path d=\"M18.56 5.44l.94 2.06.94-2.06 2.06-.94-2.06-.94-.94-2.06-.94 2.06-2.06.94zm-11 1L8.5 8.5l.94-2.06 2.06-.94-2.06-.94L8.5 2.5l-.94 2.06-2.06.94zm10 10l.94 2.06.94-2.06 2.06-.94-2.06-.94-.94-2.06-.94 2.06-2.06.94z\"/><path d=\"M17.41 7.96l-1.37-1.37c-.4-.4-.92-.59-1.43-.59-.52 0-1.04.2-1.43.59L10.3 9.45l-7.72 7.72c-.78.78-.78 2.05 0 2.83L4 21.41c.39.39.9.59 1.41.59.51 0 1.02-.2 1.41-.59l7.78-7.78 2.81-2.81c.8-.78.8-2.07 0-2.86zM5.41 20L4 18.59l7.72-7.72 1.47 1.35L5.41 20z\"/>\n",
              "  </svg>\n",
              "      </button>\n",
              "      \n",
              "  <style>\n",
              "    .colab-df-container {\n",
              "      display:flex;\n",
              "      flex-wrap:wrap;\n",
              "      gap: 12px;\n",
              "    }\n",
              "\n",
              "    .colab-df-convert {\n",
              "      background-color: #E8F0FE;\n",
              "      border: none;\n",
              "      border-radius: 50%;\n",
              "      cursor: pointer;\n",
              "      display: none;\n",
              "      fill: #1967D2;\n",
              "      height: 32px;\n",
              "      padding: 0 0 0 0;\n",
              "      width: 32px;\n",
              "    }\n",
              "\n",
              "    .colab-df-convert:hover {\n",
              "      background-color: #E2EBFA;\n",
              "      box-shadow: 0px 1px 2px rgba(60, 64, 67, 0.3), 0px 1px 3px 1px rgba(60, 64, 67, 0.15);\n",
              "      fill: #174EA6;\n",
              "    }\n",
              "\n",
              "    [theme=dark] .colab-df-convert {\n",
              "      background-color: #3B4455;\n",
              "      fill: #D2E3FC;\n",
              "    }\n",
              "\n",
              "    [theme=dark] .colab-df-convert:hover {\n",
              "      background-color: #434B5C;\n",
              "      box-shadow: 0px 1px 3px 1px rgba(0, 0, 0, 0.15);\n",
              "      filter: drop-shadow(0px 1px 2px rgba(0, 0, 0, 0.3));\n",
              "      fill: #FFFFFF;\n",
              "    }\n",
              "  </style>\n",
              "\n",
              "      <script>\n",
              "        const buttonEl =\n",
              "          document.querySelector('#df-d3e6a600-714a-438b-a99d-938ccd826f04 button.colab-df-convert');\n",
              "        buttonEl.style.display =\n",
              "          google.colab.kernel.accessAllowed ? 'block' : 'none';\n",
              "\n",
              "        async function convertToInteractive(key) {\n",
              "          const element = document.querySelector('#df-d3e6a600-714a-438b-a99d-938ccd826f04');\n",
              "          const dataTable =\n",
              "            await google.colab.kernel.invokeFunction('convertToInteractive',\n",
              "                                                     [key], {});\n",
              "          if (!dataTable) return;\n",
              "\n",
              "          const docLinkHtml = 'Like what you see? Visit the ' +\n",
              "            '<a target=\"_blank\" href=https://colab.research.google.com/notebooks/data_table.ipynb>data table notebook</a>'\n",
              "            + ' to learn more about interactive tables.';\n",
              "          element.innerHTML = '';\n",
              "          dataTable['output_type'] = 'display_data';\n",
              "          await google.colab.output.renderOutput(dataTable, element);\n",
              "          const docLink = document.createElement('div');\n",
              "          docLink.innerHTML = docLinkHtml;\n",
              "          element.appendChild(docLink);\n",
              "        }\n",
              "      </script>\n",
              "    </div>\n",
              "  </div>\n",
              "  "
            ]
          },
          "metadata": {},
          "execution_count": 58
        }
      ]
    },
    {
      "cell_type": "markdown",
      "source": [
        "Saving"
      ],
      "metadata": {
        "id": "5xE3Lzqt2Sa3"
      }
    },
    {
      "cell_type": "code",
      "source": [
        "tweets_short.to_csv(\"/content/gdrive/My Drive/Colab Notebooks/lovetweets.tsv\", sep='\\t')"
      ],
      "metadata": {
        "id": "KVykB2ZU2NE-"
      },
      "execution_count": null,
      "outputs": []
    },
    {
      "cell_type": "markdown",
      "source": [
        "# **Scraping websites**"
      ],
      "metadata": {
        "id": "ZnTwMDJt5nIT"
      }
    },
    {
      "cell_type": "code",
      "source": [
        "!pip install selenium\n",
        "!apt-get update \n",
        "!apt install chromium-chromedriver\n",
        "!cp /usr/lib/chromium-browser/chromedriver /usr/bin\n",
        "import sys\n",
        "sys.path.insert(0,'/usr/lib/chromium-browser/chromedriver')\n",
        "from selenium import webdriver\n",
        "chrome_options = webdriver.ChromeOptions()\n",
        "chrome_options.add_argument('--headless')\n",
        "chrome_options.add_argument('--no-sandbox')\n",
        "chrome_options.add_argument('--disable-dev-shm-usage')\n",
        "driver = webdriver.Chrome('chromedriver',chrome_options=chrome_options)"
      ],
      "metadata": {
        "colab": {
          "base_uri": "https://localhost:8080/",
          "height": 1000
        },
        "id": "kYkDUeMw5vO4",
        "outputId": "03f4bac2-37e4-4733-f0de-9a5d7cc41573"
      },
      "execution_count": null,
      "outputs": [
        {
          "output_type": "stream",
          "name": "stdout",
          "text": [
            "Looking in indexes: https://pypi.org/simple, https://us-python.pkg.dev/colab-wheels/public/simple/\n",
            "Collecting selenium\n",
            "  Downloading selenium-4.3.0-py3-none-any.whl (981 kB)\n",
            "\u001b[K     |████████████████████████████████| 981 kB 7.1 MB/s \n",
            "\u001b[?25hCollecting urllib3[secure,socks]~=1.26\n",
            "  Downloading urllib3-1.26.9-py2.py3-none-any.whl (138 kB)\n",
            "\u001b[K     |████████████████████████████████| 138 kB 40.4 MB/s \n",
            "\u001b[?25hCollecting trio-websocket~=0.9\n",
            "  Downloading trio_websocket-0.9.2-py3-none-any.whl (16 kB)\n",
            "Collecting trio~=0.17\n",
            "  Downloading trio-0.21.0-py3-none-any.whl (358 kB)\n",
            "\u001b[K     |████████████████████████████████| 358 kB 63.1 MB/s \n",
            "\u001b[?25hRequirement already satisfied: idna in /usr/local/lib/python3.7/dist-packages (from trio~=0.17->selenium) (2.10)\n",
            "Requirement already satisfied: attrs>=19.2.0 in /usr/local/lib/python3.7/dist-packages (from trio~=0.17->selenium) (21.4.0)\n",
            "Collecting sniffio\n",
            "  Downloading sniffio-1.2.0-py3-none-any.whl (10 kB)\n",
            "Collecting outcome\n",
            "  Downloading outcome-1.2.0-py2.py3-none-any.whl (9.7 kB)\n",
            "Requirement already satisfied: sortedcontainers in /usr/local/lib/python3.7/dist-packages (from trio~=0.17->selenium) (2.4.0)\n",
            "Collecting async-generator>=1.9\n",
            "  Downloading async_generator-1.10-py3-none-any.whl (18 kB)\n",
            "Collecting wsproto>=0.14\n",
            "  Downloading wsproto-1.1.0-py3-none-any.whl (24 kB)\n",
            "Collecting cryptography>=1.3.4\n",
            "  Downloading cryptography-37.0.2-cp36-abi3-manylinux_2_24_x86_64.whl (4.0 MB)\n",
            "\u001b[K     |████████████████████████████████| 4.0 MB 36.8 MB/s \n",
            "\u001b[?25hRequirement already satisfied: certifi in /usr/local/lib/python3.7/dist-packages (from urllib3[secure,socks]~=1.26->selenium) (2022.6.15)\n",
            "Collecting pyOpenSSL>=0.14\n",
            "  Downloading pyOpenSSL-22.0.0-py2.py3-none-any.whl (55 kB)\n",
            "\u001b[K     |████████████████████████████████| 55 kB 3.7 MB/s \n",
            "\u001b[?25hRequirement already satisfied: PySocks!=1.5.7,<2.0,>=1.5.6 in /usr/local/lib/python3.7/dist-packages (from urllib3[secure,socks]~=1.26->selenium) (1.7.1)\n",
            "Requirement already satisfied: cffi>=1.12 in /usr/local/lib/python3.7/dist-packages (from cryptography>=1.3.4->urllib3[secure,socks]~=1.26->selenium) (1.15.0)\n",
            "Requirement already satisfied: pycparser in /usr/local/lib/python3.7/dist-packages (from cffi>=1.12->cryptography>=1.3.4->urllib3[secure,socks]~=1.26->selenium) (2.21)\n",
            "Collecting h11<1,>=0.9.0\n",
            "  Downloading h11-0.13.0-py3-none-any.whl (58 kB)\n",
            "\u001b[K     |████████████████████████████████| 58 kB 6.0 MB/s \n",
            "\u001b[?25hRequirement already satisfied: typing-extensions in /usr/local/lib/python3.7/dist-packages (from h11<1,>=0.9.0->wsproto>=0.14->trio-websocket~=0.9->selenium) (4.1.1)\n",
            "Installing collected packages: sniffio, outcome, h11, cryptography, async-generator, wsproto, urllib3, trio, pyOpenSSL, trio-websocket, selenium\n",
            "  Attempting uninstall: urllib3\n",
            "    Found existing installation: urllib3 1.24.3\n",
            "    Uninstalling urllib3-1.24.3:\n",
            "      Successfully uninstalled urllib3-1.24.3\n",
            "\u001b[31mERROR: pip's dependency resolver does not currently take into account all the packages that are installed. This behaviour is the source of the following dependency conflicts.\n",
            "requests 2.23.0 requires urllib3!=1.25.0,!=1.25.1,<1.26,>=1.21.1, but you have urllib3 1.26.9 which is incompatible.\n",
            "datascience 0.10.6 requires folium==0.2.1, but you have folium 0.8.3 which is incompatible.\u001b[0m\n",
            "Successfully installed async-generator-1.10 cryptography-37.0.2 h11-0.13.0 outcome-1.2.0 pyOpenSSL-22.0.0 selenium-4.3.0 sniffio-1.2.0 trio-0.21.0 trio-websocket-0.9.2 urllib3-1.26.9 wsproto-1.1.0\n"
          ]
        },
        {
          "output_type": "display_data",
          "data": {
            "application/vnd.colab-display-data+json": {
              "pip_warning": {
                "packages": [
                  "urllib3"
                ]
              }
            }
          },
          "metadata": {}
        },
        {
          "output_type": "stream",
          "name": "stdout",
          "text": [
            "\r0% [Working]\r            \rHit:1 https://developer.download.nvidia.com/compute/cuda/repos/ubuntu1804/x86_64  InRelease\n",
            "\r0% [Connecting to archive.ubuntu.com (185.125.190.36)] [Connecting to security.\r0% [1 InRelease gpgv 1,581 B] [Connecting to archive.ubuntu.com (185.125.190.36\r                                                                               \rGet:2 https://cloud.r-project.org/bin/linux/ubuntu bionic-cran40/ InRelease [3,626 B]\n",
            "\r0% [1 InRelease gpgv 1,581 B] [Connecting to archive.ubuntu.com (185.125.190.36\r0% [1 InRelease gpgv 1,581 B] [Connecting to archive.ubuntu.com (185.125.190.36\r                                                                               \rGet:3 http://security.ubuntu.com/ubuntu bionic-security InRelease [88.7 kB]\n",
            "\r0% [1 InRelease gpgv 1,581 B] [Connecting to archive.ubuntu.com (185.125.190.36\r                                                                               \rIgn:4 https://developer.download.nvidia.com/compute/machine-learning/repos/ubuntu1804/x86_64  InRelease\n",
            "Hit:5 https://developer.download.nvidia.com/compute/machine-learning/repos/ubuntu1804/x86_64  Release\n",
            "Hit:6 http://archive.ubuntu.com/ubuntu bionic InRelease\n",
            "Get:7 http://archive.ubuntu.com/ubuntu bionic-updates InRelease [88.7 kB]\n",
            "Get:8 http://ppa.launchpad.net/c2d4u.team/c2d4u4.0+/ubuntu bionic InRelease [15.9 kB]\n",
            "Hit:10 http://ppa.launchpad.net/cran/libgit2/ubuntu bionic InRelease\n",
            "Get:11 http://archive.ubuntu.com/ubuntu bionic-backports InRelease [74.6 kB]\n",
            "Hit:12 http://ppa.launchpad.net/deadsnakes/ppa/ubuntu bionic InRelease\n",
            "Get:13 http://security.ubuntu.com/ubuntu bionic-security/universe amd64 Packages [1,521 kB]\n",
            "Get:14 http://ppa.launchpad.net/graphics-drivers/ppa/ubuntu bionic InRelease [21.3 kB]\n",
            "Get:15 http://security.ubuntu.com/ubuntu bionic-security/main amd64 Packages [2,866 kB]\n",
            "Get:16 http://security.ubuntu.com/ubuntu bionic-security/restricted amd64 Packages [1,013 kB]\n",
            "Get:17 http://ppa.launchpad.net/c2d4u.team/c2d4u4.0+/ubuntu bionic/main Sources [2,064 kB]\n",
            "Get:18 http://security.ubuntu.com/ubuntu bionic-security/multiverse amd64 Packages [22.8 kB]\n",
            "Get:19 http://archive.ubuntu.com/ubuntu bionic-updates/universe amd64 Packages [2,297 kB]\n",
            "Get:20 http://archive.ubuntu.com/ubuntu bionic-updates/main amd64 Packages [3,298 kB]\n",
            "Get:21 http://archive.ubuntu.com/ubuntu bionic-updates/multiverse amd64 Packages [29.8 kB]\n",
            "Get:22 http://archive.ubuntu.com/ubuntu bionic-updates/restricted amd64 Packages [1,047 kB]\n",
            "Get:23 http://archive.ubuntu.com/ubuntu bionic-backports/main amd64 Packages [12.2 kB]\n",
            "Get:24 http://ppa.launchpad.net/c2d4u.team/c2d4u4.0+/ubuntu bionic/main amd64 Packages [1,058 kB]\n",
            "Get:25 http://ppa.launchpad.net/graphics-drivers/ppa/ubuntu bionic/main amd64 Packages [47.8 kB]\n",
            "Fetched 15.6 MB in 4s (3,567 kB/s)\n",
            "Reading package lists... Done\n",
            "Reading package lists... Done\n",
            "Building dependency tree       \n",
            "Reading state information... Done\n",
            "The following package was automatically installed and is no longer required:\n",
            "  libnvidia-common-460\n",
            "Use 'apt autoremove' to remove it.\n",
            "The following additional packages will be installed:\n",
            "  chromium-browser chromium-browser-l10n chromium-codecs-ffmpeg-extra\n",
            "Suggested packages:\n",
            "  webaccounts-chromium-extension unity-chromium-extension\n",
            "The following NEW packages will be installed:\n",
            "  chromium-browser chromium-browser-l10n chromium-chromedriver\n",
            "  chromium-codecs-ffmpeg-extra\n",
            "0 upgraded, 4 newly installed, 0 to remove and 61 not upgraded.\n",
            "Need to get 89.8 MB of archives.\n",
            "After this operation, 302 MB of additional disk space will be used.\n",
            "Get:1 http://archive.ubuntu.com/ubuntu bionic-updates/universe amd64 chromium-codecs-ffmpeg-extra amd64 101.0.4951.64-0ubuntu0.18.04.1 [1,142 kB]\n",
            "Get:2 http://archive.ubuntu.com/ubuntu bionic-updates/universe amd64 chromium-browser amd64 101.0.4951.64-0ubuntu0.18.04.1 [78.5 MB]\n",
            "Get:3 http://archive.ubuntu.com/ubuntu bionic-updates/universe amd64 chromium-browser-l10n all 101.0.4951.64-0ubuntu0.18.04.1 [4,980 kB]\n",
            "Get:4 http://archive.ubuntu.com/ubuntu bionic-updates/universe amd64 chromium-chromedriver amd64 101.0.4951.64-0ubuntu0.18.04.1 [5,153 kB]\n",
            "Fetched 89.8 MB in 6s (15.7 MB/s)\n",
            "Selecting previously unselected package chromium-codecs-ffmpeg-extra.\n",
            "(Reading database ... 155639 files and directories currently installed.)\n",
            "Preparing to unpack .../chromium-codecs-ffmpeg-extra_101.0.4951.64-0ubuntu0.18.04.1_amd64.deb ...\n",
            "Unpacking chromium-codecs-ffmpeg-extra (101.0.4951.64-0ubuntu0.18.04.1) ...\n",
            "Selecting previously unselected package chromium-browser.\n",
            "Preparing to unpack .../chromium-browser_101.0.4951.64-0ubuntu0.18.04.1_amd64.deb ...\n",
            "Unpacking chromium-browser (101.0.4951.64-0ubuntu0.18.04.1) ...\n",
            "Selecting previously unselected package chromium-browser-l10n.\n",
            "Preparing to unpack .../chromium-browser-l10n_101.0.4951.64-0ubuntu0.18.04.1_all.deb ...\n",
            "Unpacking chromium-browser-l10n (101.0.4951.64-0ubuntu0.18.04.1) ...\n",
            "Selecting previously unselected package chromium-chromedriver.\n",
            "Preparing to unpack .../chromium-chromedriver_101.0.4951.64-0ubuntu0.18.04.1_amd64.deb ...\n",
            "Unpacking chromium-chromedriver (101.0.4951.64-0ubuntu0.18.04.1) ...\n",
            "Setting up chromium-codecs-ffmpeg-extra (101.0.4951.64-0ubuntu0.18.04.1) ...\n",
            "Setting up chromium-browser (101.0.4951.64-0ubuntu0.18.04.1) ...\n",
            "update-alternatives: using /usr/bin/chromium-browser to provide /usr/bin/x-www-browser (x-www-browser) in auto mode\n",
            "update-alternatives: using /usr/bin/chromium-browser to provide /usr/bin/gnome-www-browser (gnome-www-browser) in auto mode\n",
            "Setting up chromium-chromedriver (101.0.4951.64-0ubuntu0.18.04.1) ...\n",
            "Setting up chromium-browser-l10n (101.0.4951.64-0ubuntu0.18.04.1) ...\n",
            "Processing triggers for man-db (2.8.3-2ubuntu0.1) ...\n",
            "Processing triggers for hicolor-icon-theme (0.17-2) ...\n",
            "Processing triggers for mime-support (3.60ubuntu1) ...\n",
            "Processing triggers for libc-bin (2.27-3ubuntu1.3) ...\n",
            "/sbin/ldconfig.real: /usr/local/lib/python3.7/dist-packages/ideep4py/lib/libmkldnn.so.0 is not a symbolic link\n",
            "\n",
            "cp: '/usr/lib/chromium-browser/chromedriver' and '/usr/bin/chromedriver' are the same file\n"
          ]
        },
        {
          "output_type": "stream",
          "name": "stderr",
          "text": [
            "/usr/local/lib/python3.7/dist-packages/ipykernel_launcher.py:12: DeprecationWarning: use options instead of chrome_options\n",
            "  if sys.path[0] == '':\n"
          ]
        }
      ]
    },
    {
      "cell_type": "code",
      "source": [
        "import requests\n",
        "from bs4 import BeautifulSoup\n",
        "import pandas as pd\n",
        "from datetime import datetime\n",
        "import ast\n",
        "import time"
      ],
      "metadata": {
        "id": "eXtoTNEp6P7d"
      },
      "execution_count": null,
      "outputs": []
    },
    {
      "cell_type": "code",
      "source": [
        "headers = {\"User-Agent\": \"Mozilla/5.0 (Windows NT 10.0; Win64; x64) AppleWebKit/537.36 (KHTML, like Gecko) Chrome/70.0.3538.77 Safari/537.36\"}\n",
        "PAUSE_TIME = 3.5"
      ],
      "metadata": {
        "id": "7EYBM4IR6SpW"
      },
      "execution_count": null,
      "outputs": []
    },
    {
      "cell_type": "code",
      "source": [
        "soup = BeautifulSoup(driver.page_source, \"html.parser\")"
      ],
      "metadata": {
        "id": "t1amvQ8v6U5a"
      },
      "execution_count": null,
      "outputs": []
    },
    {
      "cell_type": "markdown",
      "source": [
        "[Kathimerini](https://www.kathimerini.gr/search/%CE%B1%CE%B3%CE%B1%CF%80%CE%B7/)\n"
      ],
      "metadata": {
        "id": "DrNbHBVh53Lw"
      }
    },
    {
      "cell_type": "code",
      "source": [
        "response = requests.get(\"https://www.kathimerini.gr/search/%CE%B1%CE%B3%CE%B1%CF%80%CE%B7/\", headers=headers)\n",
        "\n",
        "doc = BeautifulSoup(response.text)"
      ],
      "metadata": {
        "id": "7JsFbWJH6Ko8"
      },
      "execution_count": null,
      "outputs": []
    },
    {
      "cell_type": "markdown",
      "source": [
        "\n",
        "\n",
        "```\n",
        "<div class=\"design_one_title_big\">\n",
        "<h2><a href=\"https://www.kathimerini.gr/culture/561899503/i-agapi-me-ta-chromata-tis-ellis/\">Η αγάπη με τα χρώματα της Ελλης</a></h2>\n",
        "</div>\n",
        "```\n",
        "\n"
      ],
      "metadata": {
        "id": "mC42bBWw6zdj"
      }
    },
    {
      "cell_type": "code",
      "source": [
        "kath_list = doc.select(\"h2 a\")"
      ],
      "metadata": {
        "id": "pz8BrI4j6i8R"
      },
      "execution_count": null,
      "outputs": []
    },
    {
      "cell_type": "code",
      "source": [
        "kath_list"
      ],
      "metadata": {
        "colab": {
          "base_uri": "https://localhost:8080/"
        },
        "id": "EB-IHHq87gmL",
        "outputId": "922b6aef-71ff-4ffa-d8ac-593e27b24646"
      },
      "execution_count": null,
      "outputs": [
        {
          "output_type": "execute_result",
          "data": {
            "text/plain": [
              "[<a href=\"https://www.kathimerini.gr/culture/561899503/i-agapi-me-ta-chromata-tis-ellis/\">Η αγάπη με τα χρώματα της Ελλης</a>,\n",
              " <a href=\"https://www.kathimerini.gr/k/gastronomos/561895621/gastronomos-agayi-mono-ta-stekia-tis-tekilas-kai-toy-meskal/\">Γαστρονόμος: Αγαύη μόνο – Τα στέκια της τεκίλας και του μεσκάλ</a>,\n",
              " <a href=\"https://www.kathimerini.gr/culture/561871699/soyvlaki-agapi-moy-2/\">Σουβλάκι, αγάπη μου</a>,\n",
              " <a href=\"https://www.kathimerini.gr/society/561823633/anastasi-i-agapi-telika-tha-nikisei-to-misos/\">Ανάσταση – η αγάπη τελικά θα νικήσει το μίσος</a>,\n",
              " <a href=\"https://www.kathimerini.gr/world/561788941/mproys-goyilis-i-anartisi-tis-koris-toy-sto-instagram-kai-to-eycharisto-gia-tin-agapi-toy-kosmoy/\">Μπρους Γουίλις: Η ανάρτηση της κόρης του στο Instagram και το «ευχαριστώ» για την αγάπη του κόσμου</a>,\n",
              " <a href=\"https://www.kathimerini.gr/opinion/561764275/agapi-mono/\">Αγάπη μόνο</a>,\n",
              " <a href=\"https://www.kathimerini.gr/politics/561740887/kostas-karamanlis-gia-marietta-giannakoy-tha-tin-thymamai-me-agapi-kai-aperanto-sevasmo/\">Κώστας Καραμανλής για Μαριέττα Γιαννάκου: Θα την θυμάμαι με αγάπη και απέραντο σεβασμό</a>,\n",
              " <a href=\"https://www.kathimerini.gr/society/561738796/i-agapi-moy-gia-tin-ellada-den-choraei-se-mia-zoi/\">«Η αγάπη μου για την Ελλάδα δεν χωράει σε μια ζωή»</a>,\n",
              " <a href=\"https://www.kathimerini.gr/opinion/561733738/choma-nero-ki-agapi/\">Χώμα, νερό κι αγάπη</a>,\n",
              " <a href=\"https://www.kathimerini.gr/world/561727114/vios-kai-politeia-enos-apateona-poy-poloyse-agapi/\">Tinder Swindler: Βίος και πολιτεία ενός απατεώνα που πωλούσε αγάπη</a>,\n",
              " <a href=\"https://www.kathimerini.gr/culture/561719047/mperlinale-agapi-enantion-didaktismoy/\">Μπερλινάλε: Αγάπη εναντίον διδακτισμού</a>,\n",
              " <a href=\"https://www.kathimerini.gr/opinion/geyma-me-thn-k/561716230/ioannis-eleytheriadis-agapi-to-farmako-gia-tin-kardia/\">Ιωάννης Ελευθεριάδης: Αγάπη, το φάρμακο για την καρδιά</a>,\n",
              " <a href=\"https://www.kathimerini.gr/culture/561705238/arkei-i-agapi-gia-ta-zoa-k/\">Αρκεί η αγάπη για τα ζώα;</a>,\n",
              " <a href=\"https://www.kathimerini.gr/k/k-magazine/561695164/antetokoynmpo-o-protos-o-megalos-gios-tis-oikogeneias-francis-ofili-mila-gia-to-hip-hop-kai-tin-agapi/\">Αντετοκούνμπο ο Πρώτος: Ο μεγάλος γιός της οικογένειας, Francis Ofili, μιλά για το hip hop και την αγάπη</a>]"
            ]
          },
          "metadata": {},
          "execution_count": 66
        }
      ]
    },
    {
      "cell_type": "code",
      "source": [
        "kath_list = set(kath_list)\n",
        "print(kath_list)"
      ],
      "metadata": {
        "colab": {
          "base_uri": "https://localhost:8080/"
        },
        "id": "Bn462_Ed7jnd",
        "outputId": "14f868c7-5b24-4a3d-9dbc-b5511ad30581"
      },
      "execution_count": null,
      "outputs": [
        {
          "output_type": "stream",
          "name": "stdout",
          "text": [
            "{<a href=\"https://www.kathimerini.gr/culture/561899503/i-agapi-me-ta-chromata-tis-ellis/\">Η αγάπη με τα χρώματα της Ελλης</a>, <a href=\"https://www.kathimerini.gr/world/561788941/mproys-goyilis-i-anartisi-tis-koris-toy-sto-instagram-kai-to-eycharisto-gia-tin-agapi-toy-kosmoy/\">Μπρους Γουίλις: Η ανάρτηση της κόρης του στο Instagram και το «ευχαριστώ» για την αγάπη του κόσμου</a>, <a href=\"https://www.kathimerini.gr/society/561738796/i-agapi-moy-gia-tin-ellada-den-choraei-se-mia-zoi/\">«Η αγάπη μου για την Ελλάδα δεν χωράει σε μια ζωή»</a>, <a href=\"https://www.kathimerini.gr/opinion/561733738/choma-nero-ki-agapi/\">Χώμα, νερό κι αγάπη</a>, <a href=\"https://www.kathimerini.gr/k/k-magazine/561695164/antetokoynmpo-o-protos-o-megalos-gios-tis-oikogeneias-francis-ofili-mila-gia-to-hip-hop-kai-tin-agapi/\">Αντετοκούνμπο ο Πρώτος: Ο μεγάλος γιός της οικογένειας, Francis Ofili, μιλά για το hip hop και την αγάπη</a>, <a href=\"https://www.kathimerini.gr/society/561823633/anastasi-i-agapi-telika-tha-nikisei-to-misos/\">Ανάσταση – η αγάπη τελικά θα νικήσει το μίσος</a>, <a href=\"https://www.kathimerini.gr/culture/561719047/mperlinale-agapi-enantion-didaktismoy/\">Μπερλινάλε: Αγάπη εναντίον διδακτισμού</a>, <a href=\"https://www.kathimerini.gr/culture/561705238/arkei-i-agapi-gia-ta-zoa-k/\">Αρκεί η αγάπη για τα ζώα;</a>, <a href=\"https://www.kathimerini.gr/world/561727114/vios-kai-politeia-enos-apateona-poy-poloyse-agapi/\">Tinder Swindler: Βίος και πολιτεία ενός απατεώνα που πωλούσε αγάπη</a>, <a href=\"https://www.kathimerini.gr/opinion/geyma-me-thn-k/561716230/ioannis-eleytheriadis-agapi-to-farmako-gia-tin-kardia/\">Ιωάννης Ελευθεριάδης: Αγάπη, το φάρμακο για την καρδιά</a>, <a href=\"https://www.kathimerini.gr/opinion/561764275/agapi-mono/\">Αγάπη μόνο</a>, <a href=\"https://www.kathimerini.gr/politics/561740887/kostas-karamanlis-gia-marietta-giannakoy-tha-tin-thymamai-me-agapi-kai-aperanto-sevasmo/\">Κώστας Καραμανλής για Μαριέττα Γιαννάκου: Θα την θυμάμαι με αγάπη και απέραντο σεβασμό</a>, <a href=\"https://www.kathimerini.gr/culture/561871699/soyvlaki-agapi-moy-2/\">Σουβλάκι, αγάπη μου</a>, <a href=\"https://www.kathimerini.gr/k/gastronomos/561895621/gastronomos-agayi-mono-ta-stekia-tis-tekilas-kai-toy-meskal/\">Γαστρονόμος: Αγαύη μόνο – Τα στέκια της τεκίλας και του μεσκάλ</a>}\n"
          ]
        }
      ]
    },
    {
      "cell_type": "code",
      "source": [
        "scraped_links = []\n",
        "titles = []\n",
        "counter = 0\n",
        "url = \"https://www.kathimerini.gr/search/%CE%B1%CE%B3%CE%B1%CF%80%CE%B7/\"\n",
        "page = requests.get(url, headers = headers)\n",
        "s = BeautifulSoup(page.content, 'html.parser')\n",
        "links = s.select(\"h2 a\")\n",
        "links = set(links)\n",
        "    \n",
        "url = [link['href'] for link in links]\n",
        "print(url)\n",
        "\n",
        "for l in url:\n",
        "  link = l\n",
        "  print(l)\n",
        "  scraped_links.append(l)\n",
        "  \n",
        "  \n",
        "\n",
        "        "
      ],
      "metadata": {
        "colab": {
          "base_uri": "https://localhost:8080/"
        },
        "id": "MpEAAk9-7u_H",
        "outputId": "e717bc0a-b863-4806-b38e-760b07467774"
      },
      "execution_count": null,
      "outputs": [
        {
          "output_type": "stream",
          "name": "stdout",
          "text": [
            "['https://www.kathimerini.gr/culture/561899503/i-agapi-me-ta-chromata-tis-ellis/', 'https://www.kathimerini.gr/world/561788941/mproys-goyilis-i-anartisi-tis-koris-toy-sto-instagram-kai-to-eycharisto-gia-tin-agapi-toy-kosmoy/', 'https://www.kathimerini.gr/society/561738796/i-agapi-moy-gia-tin-ellada-den-choraei-se-mia-zoi/', 'https://www.kathimerini.gr/opinion/561733738/choma-nero-ki-agapi/', 'https://www.kathimerini.gr/k/k-magazine/561695164/antetokoynmpo-o-protos-o-megalos-gios-tis-oikogeneias-francis-ofili-mila-gia-to-hip-hop-kai-tin-agapi/', 'https://www.kathimerini.gr/society/561823633/anastasi-i-agapi-telika-tha-nikisei-to-misos/', 'https://www.kathimerini.gr/culture/561719047/mperlinale-agapi-enantion-didaktismoy/', 'https://www.kathimerini.gr/culture/561705238/arkei-i-agapi-gia-ta-zoa-k/', 'https://www.kathimerini.gr/world/561727114/vios-kai-politeia-enos-apateona-poy-poloyse-agapi/', 'https://www.kathimerini.gr/opinion/geyma-me-thn-k/561716230/ioannis-eleytheriadis-agapi-to-farmako-gia-tin-kardia/', 'https://www.kathimerini.gr/opinion/561764275/agapi-mono/', 'https://www.kathimerini.gr/politics/561740887/kostas-karamanlis-gia-marietta-giannakoy-tha-tin-thymamai-me-agapi-kai-aperanto-sevasmo/', 'https://www.kathimerini.gr/culture/561871699/soyvlaki-agapi-moy-2/', 'https://www.kathimerini.gr/k/gastronomos/561895621/gastronomos-agayi-mono-ta-stekia-tis-tekilas-kai-toy-meskal/']\n",
            "https://www.kathimerini.gr/culture/561899503/i-agapi-me-ta-chromata-tis-ellis/\n",
            "https://www.kathimerini.gr/world/561788941/mproys-goyilis-i-anartisi-tis-koris-toy-sto-instagram-kai-to-eycharisto-gia-tin-agapi-toy-kosmoy/\n",
            "https://www.kathimerini.gr/society/561738796/i-agapi-moy-gia-tin-ellada-den-choraei-se-mia-zoi/\n",
            "https://www.kathimerini.gr/opinion/561733738/choma-nero-ki-agapi/\n",
            "https://www.kathimerini.gr/k/k-magazine/561695164/antetokoynmpo-o-protos-o-megalos-gios-tis-oikogeneias-francis-ofili-mila-gia-to-hip-hop-kai-tin-agapi/\n",
            "https://www.kathimerini.gr/society/561823633/anastasi-i-agapi-telika-tha-nikisei-to-misos/\n",
            "https://www.kathimerini.gr/culture/561719047/mperlinale-agapi-enantion-didaktismoy/\n",
            "https://www.kathimerini.gr/culture/561705238/arkei-i-agapi-gia-ta-zoa-k/\n",
            "https://www.kathimerini.gr/world/561727114/vios-kai-politeia-enos-apateona-poy-poloyse-agapi/\n",
            "https://www.kathimerini.gr/opinion/geyma-me-thn-k/561716230/ioannis-eleytheriadis-agapi-to-farmako-gia-tin-kardia/\n",
            "https://www.kathimerini.gr/opinion/561764275/agapi-mono/\n",
            "https://www.kathimerini.gr/politics/561740887/kostas-karamanlis-gia-marietta-giannakoy-tha-tin-thymamai-me-agapi-kai-aperanto-sevasmo/\n",
            "https://www.kathimerini.gr/culture/561871699/soyvlaki-agapi-moy-2/\n",
            "https://www.kathimerini.gr/k/gastronomos/561895621/gastronomos-agayi-mono-ta-stekia-tis-tekilas-kai-toy-meskal/\n"
          ]
        }
      ]
    },
    {
      "cell_type": "code",
      "source": [
        "df_kath = pd.DataFrame(scraped_links, columns= ['url'])"
      ],
      "metadata": {
        "id": "yAGfE0IG9ybC"
      },
      "execution_count": null,
      "outputs": []
    },
    {
      "cell_type": "code",
      "source": [
        "df_kath.head(2)"
      ],
      "metadata": {
        "colab": {
          "base_uri": "https://localhost:8080/",
          "height": 112
        },
        "id": "354lwYky7vCh",
        "outputId": "e9a6a942-c90b-4e1e-8967-04c1eb5e7209"
      },
      "execution_count": null,
      "outputs": [
        {
          "output_type": "execute_result",
          "data": {
            "text/plain": [
              "                                                 url\n",
              "0  https://www.kathimerini.gr/culture/561899503/i...\n",
              "1  https://www.kathimerini.gr/world/561788941/mpr..."
            ],
            "text/html": [
              "\n",
              "  <div id=\"df-4303aa0a-5d7e-43d6-a02e-c5d50a495227\">\n",
              "    <div class=\"colab-df-container\">\n",
              "      <div>\n",
              "<style scoped>\n",
              "    .dataframe tbody tr th:only-of-type {\n",
              "        vertical-align: middle;\n",
              "    }\n",
              "\n",
              "    .dataframe tbody tr th {\n",
              "        vertical-align: top;\n",
              "    }\n",
              "\n",
              "    .dataframe thead th {\n",
              "        text-align: right;\n",
              "    }\n",
              "</style>\n",
              "<table border=\"1\" class=\"dataframe\">\n",
              "  <thead>\n",
              "    <tr style=\"text-align: right;\">\n",
              "      <th></th>\n",
              "      <th>url</th>\n",
              "    </tr>\n",
              "  </thead>\n",
              "  <tbody>\n",
              "    <tr>\n",
              "      <th>0</th>\n",
              "      <td>https://www.kathimerini.gr/culture/561899503/i...</td>\n",
              "    </tr>\n",
              "    <tr>\n",
              "      <th>1</th>\n",
              "      <td>https://www.kathimerini.gr/world/561788941/mpr...</td>\n",
              "    </tr>\n",
              "  </tbody>\n",
              "</table>\n",
              "</div>\n",
              "      <button class=\"colab-df-convert\" onclick=\"convertToInteractive('df-4303aa0a-5d7e-43d6-a02e-c5d50a495227')\"\n",
              "              title=\"Convert this dataframe to an interactive table.\"\n",
              "              style=\"display:none;\">\n",
              "        \n",
              "  <svg xmlns=\"http://www.w3.org/2000/svg\" height=\"24px\"viewBox=\"0 0 24 24\"\n",
              "       width=\"24px\">\n",
              "    <path d=\"M0 0h24v24H0V0z\" fill=\"none\"/>\n",
              "    <path d=\"M18.56 5.44l.94 2.06.94-2.06 2.06-.94-2.06-.94-.94-2.06-.94 2.06-2.06.94zm-11 1L8.5 8.5l.94-2.06 2.06-.94-2.06-.94L8.5 2.5l-.94 2.06-2.06.94zm10 10l.94 2.06.94-2.06 2.06-.94-2.06-.94-.94-2.06-.94 2.06-2.06.94z\"/><path d=\"M17.41 7.96l-1.37-1.37c-.4-.4-.92-.59-1.43-.59-.52 0-1.04.2-1.43.59L10.3 9.45l-7.72 7.72c-.78.78-.78 2.05 0 2.83L4 21.41c.39.39.9.59 1.41.59.51 0 1.02-.2 1.41-.59l7.78-7.78 2.81-2.81c.8-.78.8-2.07 0-2.86zM5.41 20L4 18.59l7.72-7.72 1.47 1.35L5.41 20z\"/>\n",
              "  </svg>\n",
              "      </button>\n",
              "      \n",
              "  <style>\n",
              "    .colab-df-container {\n",
              "      display:flex;\n",
              "      flex-wrap:wrap;\n",
              "      gap: 12px;\n",
              "    }\n",
              "\n",
              "    .colab-df-convert {\n",
              "      background-color: #E8F0FE;\n",
              "      border: none;\n",
              "      border-radius: 50%;\n",
              "      cursor: pointer;\n",
              "      display: none;\n",
              "      fill: #1967D2;\n",
              "      height: 32px;\n",
              "      padding: 0 0 0 0;\n",
              "      width: 32px;\n",
              "    }\n",
              "\n",
              "    .colab-df-convert:hover {\n",
              "      background-color: #E2EBFA;\n",
              "      box-shadow: 0px 1px 2px rgba(60, 64, 67, 0.3), 0px 1px 3px 1px rgba(60, 64, 67, 0.15);\n",
              "      fill: #174EA6;\n",
              "    }\n",
              "\n",
              "    [theme=dark] .colab-df-convert {\n",
              "      background-color: #3B4455;\n",
              "      fill: #D2E3FC;\n",
              "    }\n",
              "\n",
              "    [theme=dark] .colab-df-convert:hover {\n",
              "      background-color: #434B5C;\n",
              "      box-shadow: 0px 1px 3px 1px rgba(0, 0, 0, 0.15);\n",
              "      filter: drop-shadow(0px 1px 2px rgba(0, 0, 0, 0.3));\n",
              "      fill: #FFFFFF;\n",
              "    }\n",
              "  </style>\n",
              "\n",
              "      <script>\n",
              "        const buttonEl =\n",
              "          document.querySelector('#df-4303aa0a-5d7e-43d6-a02e-c5d50a495227 button.colab-df-convert');\n",
              "        buttonEl.style.display =\n",
              "          google.colab.kernel.accessAllowed ? 'block' : 'none';\n",
              "\n",
              "        async function convertToInteractive(key) {\n",
              "          const element = document.querySelector('#df-4303aa0a-5d7e-43d6-a02e-c5d50a495227');\n",
              "          const dataTable =\n",
              "            await google.colab.kernel.invokeFunction('convertToInteractive',\n",
              "                                                     [key], {});\n",
              "          if (!dataTable) return;\n",
              "\n",
              "          const docLinkHtml = 'Like what you see? Visit the ' +\n",
              "            '<a target=\"_blank\" href=https://colab.research.google.com/notebooks/data_table.ipynb>data table notebook</a>'\n",
              "            + ' to learn more about interactive tables.';\n",
              "          element.innerHTML = '';\n",
              "          dataTable['output_type'] = 'display_data';\n",
              "          await google.colab.output.renderOutput(dataTable, element);\n",
              "          const docLink = document.createElement('div');\n",
              "          docLink.innerHTML = docLinkHtml;\n",
              "          element.appendChild(docLink);\n",
              "        }\n",
              "      </script>\n",
              "    </div>\n",
              "  </div>\n",
              "  "
            ]
          },
          "metadata": {},
          "execution_count": 75
        }
      ]
    },
    {
      "cell_type": "code",
      "source": [
        "response = requests.get(\"https://www.kathimerini.gr/k/k-magazine/561454375/mia-agapi-gia-to-kalokairi-3/\", headers=headers)\n",
        "\n",
        "doc = BeautifulSoup(response.text)"
      ],
      "metadata": {
        "id": "k3hIgmS_-ItZ"
      },
      "execution_count": null,
      "outputs": []
    },
    {
      "cell_type": "code",
      "source": [
        "titles = doc.select(\"h1.entry-title\")[0].text\n",
        "titles"
      ],
      "metadata": {
        "colab": {
          "base_uri": "https://localhost:8080/",
          "height": 35
        },
        "id": "iCr3HOju-PvH",
        "outputId": "972ec1b3-0c88-446b-82b2-2006ea1becce"
      },
      "execution_count": null,
      "outputs": [
        {
          "output_type": "execute_result",
          "data": {
            "text/plain": [
              "'Μια αγάπη για το καλοκαίρι'"
            ],
            "application/vnd.google.colaboratory.intrinsic+json": {
              "type": "string"
            }
          },
          "metadata": {},
          "execution_count": 77
        }
      ]
    },
    {
      "cell_type": "code",
      "source": [
        "date = doc.select_one(\"time.meta-date-published\").text.strip()\n",
        "date"
      ],
      "metadata": {
        "colab": {
          "base_uri": "https://localhost:8080/",
          "height": 35
        },
        "id": "JHxe48cQ-ZmA",
        "outputId": "c63de0d3-b7d2-4056-fa78-19af6572b718"
      },
      "execution_count": null,
      "outputs": [
        {
          "output_type": "execute_result",
          "data": {
            "text/plain": [
              "'07.08.2021 • 07:44'"
            ],
            "application/vnd.google.colaboratory.intrinsic+json": {
              "type": "string"
            }
          },
          "metadata": {},
          "execution_count": 78
        }
      ]
    },
    {
      "cell_type": "code",
      "source": [
        "article = doc.select(\"div.entry-content p\")[0].text\n",
        "article"
      ],
      "metadata": {
        "colab": {
          "base_uri": "https://localhost:8080/",
          "height": 140
        },
        "id": "hc3dW017-7yt",
        "outputId": "846b26b8-0ef1-4bf7-e079-4d61b8c4f277"
      },
      "execution_count": null,
      "outputs": [
        {
          "output_type": "execute_result",
          "data": {
            "text/plain": [
              "'Χαζεύω λίστες για καλοκαιρινά αναγνώσματα: οι περισσότερες αποτελούνται λογικά από τις νέες εκδόσεις, ενώ άλλες προτείνουν παλιότερα βιβλία, «κατάλληλα» για την παραλία. Δηλαδή ως επί το πλείστον αστυνομικά και εν μέρει ευκολοδιάβαστα. Δεν υπάρχει σε καμία σχετική λίστα το Πόλεμος και Ειρήνη, για παράδειγμα, ούτε ο Οδυσσέας. Είναι μια παγιωμένη αντίληψη αυτή, σαν να έχουμε αποδεχτεί ότι οι πνευματικές μας δεξιότητες μειώνονται (ή ακόμα χειρότερα οφείλουν να μειώνονται) με το που πατήσουμε το πόδι μας στην παραλία. Μια ενδιάμεση πρόταση είναι τα βιβλία με καλοκαιρινή αύρα, ιστορίες που το τοπίο και η θερμοκρασία τους συμβαδίζουν με το παρόν. Υπό αυτή την έννοια αποκτούν επικαιρότητα οι Θερινοί έρωτες, μια συλλογή διηγημάτων που επιμελήθηκαν οι Ελπιδοφόρος Ιντζέμπελης και Μπελίκα Κουμπαρέλη, αναθέτοντας σε 49 συγγραφείς (συμπεριλαμβανομένων των εαυτών τους) από ένα διήγημα με θέμα το καλοκαίρι και τον έρωτα. Μην περιμένετε εξωτικά τοπία. Τις τελευταίες μέρες ανοίγω το βιβλίο τυχαία, δεν τα διαβάζω με τη σειρά, έχω ήδη τσακίσει τη σελίδα από κάτω στο διήγημα του Κυριακίδη, του Λύκαρη, της Μαρούτσου, του Σεβαστάκη. Καλοκαίρι και έρωτας δεν σημαίνει μόνο ηλιοβασίλεμα και τρυφερότητα – ευτυχώς τα διηγήματα της έκδοσης δεν επιβεβαιώνουν κανένα κλισέ. Τα καλοκαίρια έχουν και συννεφιά, ο έρωτας έχει και πόνο. Επόμενος στόχος ο Τολστόι κάτω απ’ την ομπρέλα.'"
            ],
            "application/vnd.google.colaboratory.intrinsic+json": {
              "type": "string"
            }
          },
          "metadata": {},
          "execution_count": 81
        }
      ]
    },
    {
      "cell_type": "code",
      "source": [
        "list_kath=[]\n",
        "for i in scraped_links:  \n",
        "    dic = {}\n",
        "    print(i)\n",
        "    page = requests.get(i, headers = headers)\n",
        "    soup = BeautifulSoup(page.content, 'html.parser')\n",
        "\n",
        "    title = soup.select(\"h1.entry-title\")\n",
        "\n",
        "    if (title):\n",
        "        dic['title'] = soup.select(\"h1.entry-title\")[0].text\n",
        "    else:\n",
        "        print(\"ARTICLE NO: \", link, \" HAS NO TITLE\")\n",
        "        dic['title'] = \"NO TITLE\"\n",
        "    \n",
        "        \n",
        "    date = soup.select_one(\"time.meta-date-published\").text.strip()\n",
        "    if (date):\n",
        "        dic['date'] = soup.select_one(\"time.meta-date-published\").text.strip()\n",
        "    else:\n",
        "        print(\"ARTICLE NO: \", link, \" HAS NO date\")\n",
        "        dic['date'] = \"NO date\"    \n",
        "        \n",
        "    \n",
        "    article =  soup.select(\"div.entry-content p\")[0].text\n",
        "    if (article):\n",
        "        dic['body'] = soup.select(\"div.entry-content p\")[0].text\n",
        "    else:\n",
        "        print(\"ARTICLE NO: \", link, \" HAS NO body\")\n",
        "        dic['body'] = \"NO body\"  \n",
        "        \n",
        "    dic['url'] = i\n",
        "\n",
        "    list_kath.append(dic)\n",
        "\n",
        "    time.sleep(0.5)"
      ],
      "metadata": {
        "colab": {
          "base_uri": "https://localhost:8080/"
        },
        "id": "F3fAV_Up_Yfb",
        "outputId": "9389daa6-e1bf-4554-cc7c-a5be8ab8d699"
      },
      "execution_count": null,
      "outputs": [
        {
          "output_type": "stream",
          "name": "stdout",
          "text": [
            "https://www.kathimerini.gr/culture/561899503/i-agapi-me-ta-chromata-tis-ellis/\n",
            "https://www.kathimerini.gr/world/561788941/mproys-goyilis-i-anartisi-tis-koris-toy-sto-instagram-kai-to-eycharisto-gia-tin-agapi-toy-kosmoy/\n",
            "https://www.kathimerini.gr/society/561738796/i-agapi-moy-gia-tin-ellada-den-choraei-se-mia-zoi/\n",
            "https://www.kathimerini.gr/opinion/561733738/choma-nero-ki-agapi/\n",
            "https://www.kathimerini.gr/k/k-magazine/561695164/antetokoynmpo-o-protos-o-megalos-gios-tis-oikogeneias-francis-ofili-mila-gia-to-hip-hop-kai-tin-agapi/\n",
            "https://www.kathimerini.gr/society/561823633/anastasi-i-agapi-telika-tha-nikisei-to-misos/\n",
            "https://www.kathimerini.gr/culture/561719047/mperlinale-agapi-enantion-didaktismoy/\n",
            "https://www.kathimerini.gr/culture/561705238/arkei-i-agapi-gia-ta-zoa-k/\n",
            "https://www.kathimerini.gr/world/561727114/vios-kai-politeia-enos-apateona-poy-poloyse-agapi/\n",
            "https://www.kathimerini.gr/opinion/geyma-me-thn-k/561716230/ioannis-eleytheriadis-agapi-to-farmako-gia-tin-kardia/\n",
            "https://www.kathimerini.gr/opinion/561764275/agapi-mono/\n",
            "https://www.kathimerini.gr/politics/561740887/kostas-karamanlis-gia-marietta-giannakoy-tha-tin-thymamai-me-agapi-kai-aperanto-sevasmo/\n",
            "https://www.kathimerini.gr/culture/561871699/soyvlaki-agapi-moy-2/\n",
            "https://www.kathimerini.gr/k/gastronomos/561895621/gastronomos-agayi-mono-ta-stekia-tis-tekilas-kai-toy-meskal/\n"
          ]
        }
      ]
    },
    {
      "cell_type": "code",
      "source": [
        "kath_agapi = pd.DataFrame(list_kath)\n",
        "kath_agapi.head(2)"
      ],
      "metadata": {
        "colab": {
          "base_uri": "https://localhost:8080/",
          "height": 112
        },
        "id": "n0g9mISG_L8v",
        "outputId": "94765e5f-d334-4799-9f61-21c30e2fb797"
      },
      "execution_count": null,
      "outputs": [
        {
          "output_type": "execute_result",
          "data": {
            "text/plain": [
              "                                               title                date  \\\n",
              "0                    Η αγάπη με τα χρώματα της Ελλης  08.06.2022 • 12:34   \n",
              "1  Μπρους Γουίλις: Η ανάρτηση της κόρης του στο I...  01.04.2022 • 12:05   \n",
              "\n",
              "                                                body  \\\n",
              "0  Στην γκαλερί genesis παρουσιάστηκε η έκθεση «Ε...   \n",
              "1  Η κόρη του Μπρους Γουίλις και της Ντέμι Μουρ, ...   \n",
              "\n",
              "                                                 url  \n",
              "0  https://www.kathimerini.gr/culture/561899503/i...  \n",
              "1  https://www.kathimerini.gr/world/561788941/mpr...  "
            ],
            "text/html": [
              "\n",
              "  <div id=\"df-454afc6d-bd61-401d-952c-e773328b6af3\">\n",
              "    <div class=\"colab-df-container\">\n",
              "      <div>\n",
              "<style scoped>\n",
              "    .dataframe tbody tr th:only-of-type {\n",
              "        vertical-align: middle;\n",
              "    }\n",
              "\n",
              "    .dataframe tbody tr th {\n",
              "        vertical-align: top;\n",
              "    }\n",
              "\n",
              "    .dataframe thead th {\n",
              "        text-align: right;\n",
              "    }\n",
              "</style>\n",
              "<table border=\"1\" class=\"dataframe\">\n",
              "  <thead>\n",
              "    <tr style=\"text-align: right;\">\n",
              "      <th></th>\n",
              "      <th>title</th>\n",
              "      <th>date</th>\n",
              "      <th>body</th>\n",
              "      <th>url</th>\n",
              "    </tr>\n",
              "  </thead>\n",
              "  <tbody>\n",
              "    <tr>\n",
              "      <th>0</th>\n",
              "      <td>Η αγάπη με τα χρώματα της Ελλης</td>\n",
              "      <td>08.06.2022 • 12:34</td>\n",
              "      <td>Στην γκαλερί genesis παρουσιάστηκε η έκθεση «Ε...</td>\n",
              "      <td>https://www.kathimerini.gr/culture/561899503/i...</td>\n",
              "    </tr>\n",
              "    <tr>\n",
              "      <th>1</th>\n",
              "      <td>Μπρους Γουίλις: Η ανάρτηση της κόρης του στο I...</td>\n",
              "      <td>01.04.2022 • 12:05</td>\n",
              "      <td>Η κόρη του Μπρους Γουίλις και της Ντέμι Μουρ, ...</td>\n",
              "      <td>https://www.kathimerini.gr/world/561788941/mpr...</td>\n",
              "    </tr>\n",
              "  </tbody>\n",
              "</table>\n",
              "</div>\n",
              "      <button class=\"colab-df-convert\" onclick=\"convertToInteractive('df-454afc6d-bd61-401d-952c-e773328b6af3')\"\n",
              "              title=\"Convert this dataframe to an interactive table.\"\n",
              "              style=\"display:none;\">\n",
              "        \n",
              "  <svg xmlns=\"http://www.w3.org/2000/svg\" height=\"24px\"viewBox=\"0 0 24 24\"\n",
              "       width=\"24px\">\n",
              "    <path d=\"M0 0h24v24H0V0z\" fill=\"none\"/>\n",
              "    <path d=\"M18.56 5.44l.94 2.06.94-2.06 2.06-.94-2.06-.94-.94-2.06-.94 2.06-2.06.94zm-11 1L8.5 8.5l.94-2.06 2.06-.94-2.06-.94L8.5 2.5l-.94 2.06-2.06.94zm10 10l.94 2.06.94-2.06 2.06-.94-2.06-.94-.94-2.06-.94 2.06-2.06.94z\"/><path d=\"M17.41 7.96l-1.37-1.37c-.4-.4-.92-.59-1.43-.59-.52 0-1.04.2-1.43.59L10.3 9.45l-7.72 7.72c-.78.78-.78 2.05 0 2.83L4 21.41c.39.39.9.59 1.41.59.51 0 1.02-.2 1.41-.59l7.78-7.78 2.81-2.81c.8-.78.8-2.07 0-2.86zM5.41 20L4 18.59l7.72-7.72 1.47 1.35L5.41 20z\"/>\n",
              "  </svg>\n",
              "      </button>\n",
              "      \n",
              "  <style>\n",
              "    .colab-df-container {\n",
              "      display:flex;\n",
              "      flex-wrap:wrap;\n",
              "      gap: 12px;\n",
              "    }\n",
              "\n",
              "    .colab-df-convert {\n",
              "      background-color: #E8F0FE;\n",
              "      border: none;\n",
              "      border-radius: 50%;\n",
              "      cursor: pointer;\n",
              "      display: none;\n",
              "      fill: #1967D2;\n",
              "      height: 32px;\n",
              "      padding: 0 0 0 0;\n",
              "      width: 32px;\n",
              "    }\n",
              "\n",
              "    .colab-df-convert:hover {\n",
              "      background-color: #E2EBFA;\n",
              "      box-shadow: 0px 1px 2px rgba(60, 64, 67, 0.3), 0px 1px 3px 1px rgba(60, 64, 67, 0.15);\n",
              "      fill: #174EA6;\n",
              "    }\n",
              "\n",
              "    [theme=dark] .colab-df-convert {\n",
              "      background-color: #3B4455;\n",
              "      fill: #D2E3FC;\n",
              "    }\n",
              "\n",
              "    [theme=dark] .colab-df-convert:hover {\n",
              "      background-color: #434B5C;\n",
              "      box-shadow: 0px 1px 3px 1px rgba(0, 0, 0, 0.15);\n",
              "      filter: drop-shadow(0px 1px 2px rgba(0, 0, 0, 0.3));\n",
              "      fill: #FFFFFF;\n",
              "    }\n",
              "  </style>\n",
              "\n",
              "      <script>\n",
              "        const buttonEl =\n",
              "          document.querySelector('#df-454afc6d-bd61-401d-952c-e773328b6af3 button.colab-df-convert');\n",
              "        buttonEl.style.display =\n",
              "          google.colab.kernel.accessAllowed ? 'block' : 'none';\n",
              "\n",
              "        async function convertToInteractive(key) {\n",
              "          const element = document.querySelector('#df-454afc6d-bd61-401d-952c-e773328b6af3');\n",
              "          const dataTable =\n",
              "            await google.colab.kernel.invokeFunction('convertToInteractive',\n",
              "                                                     [key], {});\n",
              "          if (!dataTable) return;\n",
              "\n",
              "          const docLinkHtml = 'Like what you see? Visit the ' +\n",
              "            '<a target=\"_blank\" href=https://colab.research.google.com/notebooks/data_table.ipynb>data table notebook</a>'\n",
              "            + ' to learn more about interactive tables.';\n",
              "          element.innerHTML = '';\n",
              "          dataTable['output_type'] = 'display_data';\n",
              "          await google.colab.output.renderOutput(dataTable, element);\n",
              "          const docLink = document.createElement('div');\n",
              "          docLink.innerHTML = docLinkHtml;\n",
              "          element.appendChild(docLink);\n",
              "        }\n",
              "      </script>\n",
              "    </div>\n",
              "  </div>\n",
              "  "
            ]
          },
          "metadata": {},
          "execution_count": 86
        }
      ]
    },
    {
      "cell_type": "code",
      "source": [
        "kath_agapi['date'] = kath_agapi['date'].str.replace('•', ' ')"
      ],
      "metadata": {
        "id": "AhH_MRY6Aus9"
      },
      "execution_count": null,
      "outputs": []
    },
    {
      "cell_type": "code",
      "source": [
        "from datetime import timedelta\n",
        "from datetime import datetime as dt\n",
        "\n",
        "kath_agapi['date'] = pd.to_datetime(kath_agapi['date'])\n",
        "kath_agapi.head(1)"
      ],
      "metadata": {
        "colab": {
          "base_uri": "https://localhost:8080/",
          "height": 81
        },
        "id": "PdR1GKZQA5MO",
        "outputId": "8089866c-78ab-49de-8ab8-a449382e5732"
      },
      "execution_count": null,
      "outputs": [
        {
          "output_type": "execute_result",
          "data": {
            "text/plain": [
              "                             title                date  \\\n",
              "0  Η αγάπη με τα χρώματα της Ελλης 2022-08-06 12:34:00   \n",
              "\n",
              "                                                body  \\\n",
              "0  Στην γκαλερί genesis παρουσιάστηκε η έκθεση «Ε...   \n",
              "\n",
              "                                                 url  \n",
              "0  https://www.kathimerini.gr/culture/561899503/i...  "
            ],
            "text/html": [
              "\n",
              "  <div id=\"df-361f9afa-723d-4317-b690-20276e9b5ecd\">\n",
              "    <div class=\"colab-df-container\">\n",
              "      <div>\n",
              "<style scoped>\n",
              "    .dataframe tbody tr th:only-of-type {\n",
              "        vertical-align: middle;\n",
              "    }\n",
              "\n",
              "    .dataframe tbody tr th {\n",
              "        vertical-align: top;\n",
              "    }\n",
              "\n",
              "    .dataframe thead th {\n",
              "        text-align: right;\n",
              "    }\n",
              "</style>\n",
              "<table border=\"1\" class=\"dataframe\">\n",
              "  <thead>\n",
              "    <tr style=\"text-align: right;\">\n",
              "      <th></th>\n",
              "      <th>title</th>\n",
              "      <th>date</th>\n",
              "      <th>body</th>\n",
              "      <th>url</th>\n",
              "    </tr>\n",
              "  </thead>\n",
              "  <tbody>\n",
              "    <tr>\n",
              "      <th>0</th>\n",
              "      <td>Η αγάπη με τα χρώματα της Ελλης</td>\n",
              "      <td>2022-08-06 12:34:00</td>\n",
              "      <td>Στην γκαλερί genesis παρουσιάστηκε η έκθεση «Ε...</td>\n",
              "      <td>https://www.kathimerini.gr/culture/561899503/i...</td>\n",
              "    </tr>\n",
              "  </tbody>\n",
              "</table>\n",
              "</div>\n",
              "      <button class=\"colab-df-convert\" onclick=\"convertToInteractive('df-361f9afa-723d-4317-b690-20276e9b5ecd')\"\n",
              "              title=\"Convert this dataframe to an interactive table.\"\n",
              "              style=\"display:none;\">\n",
              "        \n",
              "  <svg xmlns=\"http://www.w3.org/2000/svg\" height=\"24px\"viewBox=\"0 0 24 24\"\n",
              "       width=\"24px\">\n",
              "    <path d=\"M0 0h24v24H0V0z\" fill=\"none\"/>\n",
              "    <path d=\"M18.56 5.44l.94 2.06.94-2.06 2.06-.94-2.06-.94-.94-2.06-.94 2.06-2.06.94zm-11 1L8.5 8.5l.94-2.06 2.06-.94-2.06-.94L8.5 2.5l-.94 2.06-2.06.94zm10 10l.94 2.06.94-2.06 2.06-.94-2.06-.94-.94-2.06-.94 2.06-2.06.94z\"/><path d=\"M17.41 7.96l-1.37-1.37c-.4-.4-.92-.59-1.43-.59-.52 0-1.04.2-1.43.59L10.3 9.45l-7.72 7.72c-.78.78-.78 2.05 0 2.83L4 21.41c.39.39.9.59 1.41.59.51 0 1.02-.2 1.41-.59l7.78-7.78 2.81-2.81c.8-.78.8-2.07 0-2.86zM5.41 20L4 18.59l7.72-7.72 1.47 1.35L5.41 20z\"/>\n",
              "  </svg>\n",
              "      </button>\n",
              "      \n",
              "  <style>\n",
              "    .colab-df-container {\n",
              "      display:flex;\n",
              "      flex-wrap:wrap;\n",
              "      gap: 12px;\n",
              "    }\n",
              "\n",
              "    .colab-df-convert {\n",
              "      background-color: #E8F0FE;\n",
              "      border: none;\n",
              "      border-radius: 50%;\n",
              "      cursor: pointer;\n",
              "      display: none;\n",
              "      fill: #1967D2;\n",
              "      height: 32px;\n",
              "      padding: 0 0 0 0;\n",
              "      width: 32px;\n",
              "    }\n",
              "\n",
              "    .colab-df-convert:hover {\n",
              "      background-color: #E2EBFA;\n",
              "      box-shadow: 0px 1px 2px rgba(60, 64, 67, 0.3), 0px 1px 3px 1px rgba(60, 64, 67, 0.15);\n",
              "      fill: #174EA6;\n",
              "    }\n",
              "\n",
              "    [theme=dark] .colab-df-convert {\n",
              "      background-color: #3B4455;\n",
              "      fill: #D2E3FC;\n",
              "    }\n",
              "\n",
              "    [theme=dark] .colab-df-convert:hover {\n",
              "      background-color: #434B5C;\n",
              "      box-shadow: 0px 1px 3px 1px rgba(0, 0, 0, 0.15);\n",
              "      filter: drop-shadow(0px 1px 2px rgba(0, 0, 0, 0.3));\n",
              "      fill: #FFFFFF;\n",
              "    }\n",
              "  </style>\n",
              "\n",
              "      <script>\n",
              "        const buttonEl =\n",
              "          document.querySelector('#df-361f9afa-723d-4317-b690-20276e9b5ecd button.colab-df-convert');\n",
              "        buttonEl.style.display =\n",
              "          google.colab.kernel.accessAllowed ? 'block' : 'none';\n",
              "\n",
              "        async function convertToInteractive(key) {\n",
              "          const element = document.querySelector('#df-361f9afa-723d-4317-b690-20276e9b5ecd');\n",
              "          const dataTable =\n",
              "            await google.colab.kernel.invokeFunction('convertToInteractive',\n",
              "                                                     [key], {});\n",
              "          if (!dataTable) return;\n",
              "\n",
              "          const docLinkHtml = 'Like what you see? Visit the ' +\n",
              "            '<a target=\"_blank\" href=https://colab.research.google.com/notebooks/data_table.ipynb>data table notebook</a>'\n",
              "            + ' to learn more about interactive tables.';\n",
              "          element.innerHTML = '';\n",
              "          dataTable['output_type'] = 'display_data';\n",
              "          await google.colab.output.renderOutput(dataTable, element);\n",
              "          const docLink = document.createElement('div');\n",
              "          docLink.innerHTML = docLinkHtml;\n",
              "          element.appendChild(docLink);\n",
              "        }\n",
              "      </script>\n",
              "    </div>\n",
              "  </div>\n",
              "  "
            ]
          },
          "metadata": {},
          "execution_count": 88
        }
      ]
    },
    {
      "cell_type": "code",
      "source": [
        "kath_agapi['year'] = kath_agapi['date'].dt.strftime('%Y')"
      ],
      "metadata": {
        "id": "pIzSciuHBEAn"
      },
      "execution_count": null,
      "outputs": []
    },
    {
      "cell_type": "code",
      "source": [
        "kath_agapi = kath_agapi[kath_agapi['title'].notna()]\n",
        "kath_agapi = kath_agapi[kath_agapi['body'].notna()]\n",
        "kath_agapi = kath_agapi[kath_agapi['date'].notna()]"
      ],
      "metadata": {
        "id": "F3fooMTBBHWN"
      },
      "execution_count": null,
      "outputs": []
    },
    {
      "cell_type": "code",
      "source": [
        "kath_agapi.shape"
      ],
      "metadata": {
        "colab": {
          "base_uri": "https://localhost:8080/"
        },
        "id": "jJsCYTljBUvm",
        "outputId": "d2a5bd4e-ca4a-41a6-fda1-54d8291191d5"
      },
      "execution_count": null,
      "outputs": [
        {
          "output_type": "execute_result",
          "data": {
            "text/plain": [
              "(14, 5)"
            ]
          },
          "metadata": {},
          "execution_count": 91
        }
      ]
    },
    {
      "cell_type": "code",
      "source": [
        "kath_agapi.to_csv(\"/content/gdrive/My Drive/Colab Notebooks/kath_agapi.csv\")"
      ],
      "metadata": {
        "id": "l1i5L8czBfd1"
      },
      "execution_count": null,
      "outputs": []
    },
    {
      "cell_type": "markdown",
      "source": [
        "[Ladylike](https://www.ladylike.gr/?s=%CE%B1%CE%B3%CE%B1%CF%80%CE%B7)"
      ],
      "metadata": {
        "id": "h4QUMjRIC3q6"
      }
    },
    {
      "cell_type": "markdown",
      "source": [
        "\n",
        "\n",
        "```\n",
        "<h3 class=\"post__title\">\n",
        "\t\t\t\t\t  \t\t\t\t<a href=\"https://www.ladylike.gr/beauty/afto-einai-to-neo-agapimeno-proion-ton-gallidon-pou-afairei-akomi-kai-to-pio-epimono-adiavroxo-makigiaz/\" title=\"Αυτό είναι το νέο αγαπημένο προϊόν των Γαλλίδων που αφαιρεί ακόμη και το πιο επίμονο αδιάβροχο μακιγιάζ\">\n",
        "\t\t\t\t\t\t\t\t\t\tΑυτό είναι το νέο αγαπημένο προϊόν των Γαλλίδων που αφαιρεί ακόμη και το πιο επίμονο αδιάβροχο μακιγιάζ\t\t\t\t\t\t\t\t\t</a>\n",
        "\t\t\t\t\t      \t\t</h3>\n",
        "```\n",
        "\n"
      ],
      "metadata": {
        "id": "mAkjTdpBDcU5"
      }
    },
    {
      "cell_type": "code",
      "source": [
        "scraped_links = []\n",
        "titles = []\n",
        "counter = 0\n",
        "url = \"https://www.ladylike.gr/?s=%CE%B1%CE%B3%CE%B1%CF%80%CE%B7\"\n",
        "page = requests.get(url, headers = headers)\n",
        "s = BeautifulSoup(page.content, 'html.parser')\n",
        "links = s.select(\"h3.post__title a\")\n",
        "links = set(links)\n",
        "    \n",
        "url = [link['href'] for link in links]\n",
        "print(url)\n",
        "\n",
        "for l in url:\n",
        "  link = l\n",
        "  print(l)\n",
        "  scraped_links.append(l)"
      ],
      "metadata": {
        "colab": {
          "base_uri": "https://localhost:8080/"
        },
        "id": "SYh0QluxC77Z",
        "outputId": "4e0a9920-98af-4706-8a04-43ce24387e8e"
      },
      "execution_count": null,
      "outputs": [
        {
          "output_type": "stream",
          "name": "stdout",
          "text": [
            "['https://www.ladylike.gr/women-today/tayla-clement-to-koritsi-pou-den-borei-na-xamogelasei-kai-to-epipono-taxidi-agapis-gia-ton-eafto-tis/', 'https://www.ladylike.gr/beauty/lily-james-ekane-to-agapimeno-kourema-ton-gallidon/', 'https://www.ladylike.gr/beauty/boyfriend-manicure-4-celebrities-pou-exoun-afierosei-to-manikiour-tous-stous-agapimenous-tous/', 'https://www.ladylike.gr/celebrities/vasilis-xaralampopoulos-fotografizei-ti-sizigo-tou-kai-gemizei-agapi-to-instagram/', 'https://www.ladylike.gr/style/ipanema-i-pio-agapimeni-sillogi-tou-kalokairiou-2/', 'https://www.ladylike.gr/beauty/afto-einai-to-neo-agapimeno-proion-ton-gallidon-pou-afairei-akomi-kai-to-pio-epimono-adiavroxo-makigiaz/', 'https://www.ladylike.gr/life/my-policeman-o-harry-styles-protagonistei-se-mia-queer-istoria-agapis/', 'https://www.ladylike.gr/style/6-casual-kalokairina-outfits-apo-tis-agapimenes-mas-gallides/', 'https://www.ladylike.gr/celebrities/h-maria-nafpliotou-giortase-ta-genethlia-tis-xoris-makigiaz-monadiko-filtro-i-agapi/', 'https://www.ladylike.gr/life/giorti-tou-patera-i-pio-xexoristi-karta-agapis-apo-tin-merimna/']\n",
            "https://www.ladylike.gr/women-today/tayla-clement-to-koritsi-pou-den-borei-na-xamogelasei-kai-to-epipono-taxidi-agapis-gia-ton-eafto-tis/\n",
            "https://www.ladylike.gr/beauty/lily-james-ekane-to-agapimeno-kourema-ton-gallidon/\n",
            "https://www.ladylike.gr/beauty/boyfriend-manicure-4-celebrities-pou-exoun-afierosei-to-manikiour-tous-stous-agapimenous-tous/\n",
            "https://www.ladylike.gr/celebrities/vasilis-xaralampopoulos-fotografizei-ti-sizigo-tou-kai-gemizei-agapi-to-instagram/\n",
            "https://www.ladylike.gr/style/ipanema-i-pio-agapimeni-sillogi-tou-kalokairiou-2/\n",
            "https://www.ladylike.gr/beauty/afto-einai-to-neo-agapimeno-proion-ton-gallidon-pou-afairei-akomi-kai-to-pio-epimono-adiavroxo-makigiaz/\n",
            "https://www.ladylike.gr/life/my-policeman-o-harry-styles-protagonistei-se-mia-queer-istoria-agapis/\n",
            "https://www.ladylike.gr/style/6-casual-kalokairina-outfits-apo-tis-agapimenes-mas-gallides/\n",
            "https://www.ladylike.gr/celebrities/h-maria-nafpliotou-giortase-ta-genethlia-tis-xoris-makigiaz-monadiko-filtro-i-agapi/\n",
            "https://www.ladylike.gr/life/giorti-tou-patera-i-pio-xexoristi-karta-agapis-apo-tin-merimna/\n"
          ]
        }
      ]
    },
    {
      "cell_type": "code",
      "source": [
        "response = requests.get(\"https://www.ladylike.gr/beauty/afto-einai-to-neo-agapimeno-proion-ton-gallidon-pou-afairei-akomi-kai-to-pio-epimono-adiavroxo-makigiaz/\", headers=headers)\n",
        "\n",
        "doc = BeautifulSoup(response.text)"
      ],
      "metadata": {
        "id": "dce0rrD5DmO5"
      },
      "execution_count": null,
      "outputs": []
    },
    {
      "cell_type": "code",
      "source": [
        "titles = doc.select(\"h1.article__title\")[0].text\n",
        "titles"
      ],
      "metadata": {
        "colab": {
          "base_uri": "https://localhost:8080/",
          "height": 35
        },
        "id": "Ceur86tHD8Dp",
        "outputId": "b198b831-61ec-4332-a75c-a506b66119ba"
      },
      "execution_count": null,
      "outputs": [
        {
          "output_type": "execute_result",
          "data": {
            "text/plain": [
              "'\\n\\t\\t\\t\\t\\tΑυτό είναι το νέο αγαπημένο προϊόν των Γαλλίδων που αφαιρεί ακόμη και το πιο επίμονο αδιάβροχο μακιγιάζ\\t\\t\\t\\t'"
            ],
            "application/vnd.google.colaboratory.intrinsic+json": {
              "type": "string"
            }
          },
          "metadata": {},
          "execution_count": 95
        }
      ]
    },
    {
      "cell_type": "code",
      "source": [
        "date = doc.select_one(\"li.article__info__mob__post__date\").text.strip()\n",
        "date"
      ],
      "metadata": {
        "colab": {
          "base_uri": "https://localhost:8080/",
          "height": 35
        },
        "id": "CGS3fOJiEHcm",
        "outputId": "158015f6-b342-45dd-b5b2-57ec8754383d"
      },
      "execution_count": null,
      "outputs": [
        {
          "output_type": "execute_result",
          "data": {
            "text/plain": [
              "'1 ΙΟΥΝ 2022'"
            ],
            "application/vnd.google.colaboratory.intrinsic+json": {
              "type": "string"
            }
          },
          "metadata": {},
          "execution_count": 96
        }
      ]
    },
    {
      "cell_type": "code",
      "source": [
        "article = doc.select(\"section.single_article__main_content\")[0].text\n",
        "article"
      ],
      "metadata": {
        "colab": {
          "base_uri": "https://localhost:8080/",
          "height": 140
        },
        "id": "LwJ7o-pUEXZZ",
        "outputId": "faf17edb-742e-4893-d48c-ab8bc3f030d3"
      },
      "execution_count": null,
      "outputs": [
        {
          "output_type": "execute_result",
          "data": {
            "text/plain": [
              "'\\nΠριν λίγο καιρό από αυτή εδώ τη στήλη μιλούσαμε για τους λόγους που το micellar water θεωρείται το «θαυματουργό» νερό καθαρισμού στη ρουτίνα ομορφιάς των Γαλλίδων (και όχι μόνο, πλέον). Γιατί και ποια δεν θα ήθελε να μάθει τα μυστικά της λαμπερής και καθαρής επιδερμίδα τους; (Ρητορικό το ερώτημα).\\n\\xa0\\n\\xa0\\n\\n\\n\\n\\n\\n\\n\\n\\t\\t\\t\\t\\t\\t\\t\\t\\t\\t\\tgoogletag.cmd.push(function() { googletag.display(\\'div-gpt-ad-1566467293150-0\\'); });\\n\\t\\t\\t\\t\\t\\t\\t\\t\\t\\t\\n\\n\\n\\n\\n\\n\\n\\nΑυτή τη φορά, βέβαια, κάνουμε focus σε μία ολοκαίνουργια άφιξη στη French Girl Beauty Routine και πιο συγκεκριμένα σ’ ένα προϊόν που αφαιρεί ακόμη και το πιο επίμονο αδιάβροχο μακιγιάζ ΧΩΡΙΣ να ερεθίζει καθόλου την επιδερμίδα των ματιών/ χειλιών. Ποιο είναι αυτό και γιατί να επενδύσει κανείς σ’ ένα ξεχωριστό προϊόν γι αυτή την περιοχή του προσώπου του; Πώς αφαιρούν οι Γαλλίδες το μακιγιάζ τους χωρίς να ερεθίσουν το δέρμα τους; Έχουμε όλες τις απαντήσεις παρακάτω…\\nΓιατί η περιοχή των ματιών και των χειλιών είναι τόσο ευαίσθητες; Τι λένε οι ειδικοί…\\nΑρχικά, το δέρμα σ’ αυτήν την περιοχή είναι εξαιρετικά λεπτό και δεν περιέχει σμηγματογόνους αδένες. Οι δύο αυτοί παράγοντες συνδυαστικά καθιστούν πιο αδύναμο και λιγότερο λειτουργικό τον δερματικό φραγμό. Κατόπιν, η περιοχή αυτή είναι υποκείμενη σε διάφορους στρεσόγονους παράγοντες. Για παράδειγμα, τα μάτια μας ανοιγοκλείνουν περίπου 10,000 φορές τη μέρα. Επίσης, τείνουμε να ακουμπάμε και να τρίβουμε τα μάτια και τα βλέφαρά μας πολλές φορές μέσα στη μέρα. Φυσικά, το μακιγιάζ και ειδικά αν δεν αφαιρεθεί\\nσωστά, μπορεί να προκαλέσει μεγαλύτερη ευαισθησία» αναφέρει χαρακτηριστικά η Michèle Sayag Allergist and Director of Scientific Research για τη Bioderma.\\nΚάτι αντίστοιχο συμβαίνει και με τα χείλη μας. Το κεράτινο στρώμα, ο δερματικός φραγμός της περιοχής, είναι ιδιαίτερα αποδυναμωμένος και επιδεινώνεται από το σάλιο, τα δαγκώματα και φυσικά από όλες τις εκφράσεις του προσώπου.\\n\\n\\n\\n\\n    \\t\\t\\t\\t\\t\\t\\t\\t\\t\\t\\tgoogletag.cmd.push(function() {\\n                            gptAdSlots.push(googletag.defineSlot(\"/4834629/ladylike.gr/ros_inline_b\", [[300, 600], [300, 250], [336, 280]], \"div-gpt-ad-1566467376477-0\")\\n                                      .defineSizeMapping(mappingSizes[\"mapping13\"])\\n                                      .addService(googletag.pubads()));\\n\\n                            googletag.display(\"div-gpt-ad-1566467376477-0\");\\n                          });\\n    \\t\\t\\t\\t\\t\\t\\t\\t\\t\\t\\n\\n\\n\\nΠώς αφαιρούν οι Γαλλίδες το μακιγιάζ τους χωρίς να ερεθίσουν το δέρμα τους;\\nΟι Γαλλίδες ξέρουν πως το «μυστικό» στο ντεμακιγιάζ τους κρύβεται στην επιλογή των κατάλληλων προϊόντων για τη φροντίδα της επιδερμίδας τους, που θα απομακρύνουν αποτελεσματικά το μακιγιάζ των ματιών/ χελιών τους (ειδικά της αδιάβροχης μάσκαρας, του eyeliner του ματ κραγιόν κλπ), με μία μόλις κίνηση, χωρίς να την ερεθίσουν.\\n\\n\\n\\n\\n\\n \\n\\n\\n\\n\\n\\n\\n\\n\\n\\n\\nView this post on Instagram\\n\\n\\n\\n\\n\\n\\n\\n\\n\\n\\n\\n\\n\\n\\n\\n\\n\\n\\n\\n\\n\\n\\n\\nA post shared by BIODERMA France (@biodermafrance)\\n\\n\\n\\n\\n\\n\\n\\n\\nΚάπως έτσι, μαζί με το θρυλικό νερό micellaire της Bioderma, Sensibio H2O, ξεκίνησαν να χρησιμοποιούν το Sensibio H2O Eye, το ολοκαίνουργιο διφασικό μικκυλιακό νερό, που χάρη στην καινοτόμο, ενεργή, διφασική μικκυλιακή τεχνολογία του, απομακρύνει ακόμη και το πιο επίμονο αδιάβροχο μακιγιάζ, καταπραΰνοντας και ενδυναμώνοντας τις βλεφαρίδες και το ευαίσθητο δέρμα των εύθραυστων περιοχών. Τι κάνει ξεχωριστό το Sensibio H2O Eye; Συνέχισε να διαβάζεις παρακάτω…\\n\\n\\n\\n\\n\\n \\n\\n\\n\\n\\n\\n\\n\\n\\n\\n\\nView this post on Instagram\\n\\n\\n\\n\\n\\n\\n\\n\\n\\n\\n\\n\\n\\n\\n\\n\\n\\n\\n\\n\\n\\n\\n\\nA post shared by BIODERMA France (@biodermafrance)\\n\\n\\n\\n\\n\\n\\n\\n\\nΤι είναι τα διφασικά νερά ντεμακιγιάζ και τι κάνει ξεχωριστή τη σύνθεση του Bioderma Sensibio H2O Eye;\\nΤα διφασικά νερά- όπως καταλαβαίνεις από το όνομά τους- ξεχωρίζουν σε σχέση με τα απλά νερά για τις δύο διαφορετικές φάσεις- υφές τους (έλαιο- νερό), που βρίσκονται σε ισορροπία και δεν διαλύονται μεταξύ τους. Συνήθως, στα περισσότερα προϊόντα ντεμακιγιάζ για τις πιο ευαίσθητες περιοχές, η αναλογία ελαιώδους φάσης και μικκυλιακό νέρου είναι 50%-50%.\\nΣτο Sensibio H2O Eye η ελαιώδης φάση (περιέχει ενυδατικούς παράγοντες) αντιστοιχεί στο 30% (και όχι στο 50%) της σύνθεσής του. Έτσι δημιουργείται η τέλεια αναλογία για αποτελεσματική απομάκρυνση του μακιγιάζ, ενώ το δέρμα παραμένει άνετο, χωρίς ρίσκο ερεθισμού ή πρηξίματος. Μέσα σε λίγα δευτερόλεπτα, η ελαιώδης φάση διαλύει τυχόν ρύπους ή ίχνη αδιάβροχου μακιγιάζ, ενώ η υδάτινη aka τα μικκύλια τα παγιδεύουν και τα απομακρύνουν, χωρίς να ερεθίζουν την επιδερμίδα, διατηρώντας την απαλή και φρέσκια.\\n\\n\\n\\n\\n\\n \\n\\n\\n\\n\\n\\n\\n\\n\\n\\n\\nView this post on Instagram\\n\\n\\n\\n\\n\\n\\n\\n\\n\\n\\n\\n\\n\\n\\n\\n\\n\\n\\n\\n\\n\\n\\n\\nA post shared by Bioderma Greece (@biodermagreece)\\n\\n\\n\\n\\n\\n\\n\\n\\nΠαράλληλά, το \\xa0Εργαστήριο της Bioderma επέλεξε για τη σύνθεσή του την Προβιταμίνη Β5 aka πανθενόλη, που φροντίζει τόσο το δέρμα όσο και τις βλεφαρίδες, αφήνοντάς τες πιο πυκνές, ενώ παράλληλα ενισχύει το δερματικό φραγμό. Επιπλέον, στη φόρμουλά του θα βρει κανείς σάκχαρα όπως τους φρουτογλυκοσακχαρίτες που καταπολεμούν τη φλεγμονή και καταπραΰνουν αλλά και ένα εκχύλισμα φυκιών Laminaria, που ενυδατώνει το δέρμα και αυξάνει την αντοχή του μακροπρόθεσμα. Τέλος, το Sensibio H2O Eye σέβεται το οικοσύστημα του δέρματος, χάρη στα βιομιμητικά του συστατικά, όπως τα συστατικά που βρίσκονται φυσικά στο δυνατό και υγιές δέρμα. Αποτελείται από φυσιολογικό pH (το ίδιο με αυτό που υπάρχει στο δέρμα μας), ενισχύοντας τις φυσικές άμυνες του δέρματος στην περιοχή των ματιών και χειλιών.\\n\\n\\n\\n\\n\\n \\n\\n\\n\\n\\n\\n\\n\\n\\n\\n\\nView this post on Instagram\\n\\n\\n\\n\\n\\n\\n\\n\\n\\n\\n\\n\\n\\n\\n\\n\\n\\n\\n\\n\\n\\n\\n\\nA post shared by Bioderma Greece (@biodermagreece)\\n\\n\\n\\n\\n\\n\\n\\n\\nΟ σωστός τρόπος να κάνεις ντεμακιγιάζ με το Bioderma Sensibio H2O Eye\\nFirst things first. Απαραίτητος κανόνας πριν χρησιμοποίησει κανείς το Bioderma Sensibio H2O Eye είναι να το ανακινήσει καλά προκειμένου να δημιουργηθεί ένα σταθερό ομογενές γαλάκτωμα. Στη συνέχεια, τα πράγματα είναι απλά: Χρειάζεται να εμποτίσει ένα cotton pad και να το εφαρμόσει στην περιοχή που θέλει να κάνει ντεμακιγιάζ (πχ στα μάτια ή τα χείλη σου), κάνοντας απαλές, κυκλικές κινήσεις- ΧΩΡΙΣ να τρίβει τα μάτια του. ΔΕΝ χρειάζεται ξέβγαλμα – ΔΕΝ αφήνει το δέρμα λιπαρό και ΔΕΝ κολλάει.\\n\\n\\n\\n\\n\\n \\n\\n\\n\\n\\n\\n\\n\\n\\n\\n\\nView this post on Instagram\\n\\n\\n\\n\\n\\n\\n\\n\\n\\n\\n\\n\\n\\n\\n\\n\\n\\n\\n\\n\\n\\n\\n\\nA post shared by Bioderma Greece (@biodermagreece)\\n\\n\\n\\n\\n\\n\\n\\n\\nΚάνω focus στο τρίψιμο των ματιών, καθώς εξίσου σημαντικό με το να έχεις το «σωστό» προϊόν στα χέρια σου και να ακολουθείς τις οδηγίες χρήσης είναι και ο τρόπος που κάνεις ντεμακιγιάζ. Τόσο να μην κάνεις ντεμακιγιάζ \\xa0όσο και η λανθασμένη αφαίρεσή του μπορεί να επιδεινώσει τα συμπτώματα του ευαίσθητου δέρματος (πχ διαταράσσεται ο δερματικός φραγμός, οδηγώντας σε φλεγμονές, ερεθισμούς κλπ).\\nΜπορείς να το χρησιμοποιήσεις μετά τον καθαρισμό της επιδερμίδας σου με το Sensibio H2O, ενώ στη συνέχεια μπορείς να εφαρμόσεις την ενυδατική κρέμα σου (αν έχεις ευαίσθητη επιδερμίδα δοκίμασε τη Sensibio Defensive & Defensive rich).\\n\\n'"
            ],
            "application/vnd.google.colaboratory.intrinsic+json": {
              "type": "string"
            }
          },
          "metadata": {},
          "execution_count": 103
        }
      ]
    },
    {
      "cell_type": "code",
      "source": [
        "list_ladylike=[]\n",
        "for i in scraped_links:  \n",
        "    dic = {}\n",
        "    print(i)\n",
        "    page = requests.get(i, headers = headers)\n",
        "    soup = BeautifulSoup(page.content, 'html.parser')\n",
        "\n",
        "    title = soup.select(\"h1.article__title\")[0].text\n",
        "\n",
        "    if (title):\n",
        "        dic['title'] = soup.select(\"h1.article__title\")[0].text\n",
        "    else:\n",
        "        print(\"ARTICLE NO: \", link, \" HAS NO TITLE\")\n",
        "        dic['title'] = \"NO TITLE\"\n",
        "    \n",
        "        \n",
        "    date = soup.select_one(\"li.article__info__mob__post__date\").text.strip()\n",
        "    if (date):\n",
        "        dic['date'] = soup.select_one(\"li.article__info__mob__post__date\").text.strip()\n",
        "    else:\n",
        "        print(\"ARTICLE NO: \", link, \" HAS NO date\")\n",
        "        dic['date'] = \"NO date\"    \n",
        "        \n",
        "    \n",
        "    article =  soup.select(\"section.single_article__main_content\")[0].text\n",
        "    if (article):\n",
        "        dic['body'] = soup.select(\"section.single_article__main_content\")[0].text\n",
        "    else:\n",
        "        print(\"ARTICLE NO: \", link, \" HAS NO body\")\n",
        "        dic['body'] = \"NO body\"  \n",
        "        \n",
        "    dic['url'] = i\n",
        "\n",
        "    list_ladylike.append(dic)\n",
        "\n",
        "    time.sleep(0.5)"
      ],
      "metadata": {
        "colab": {
          "base_uri": "https://localhost:8080/"
        },
        "id": "TBQOj5oKFVBR",
        "outputId": "d73c6e42-2678-41d5-9ad0-0f011d4ed082"
      },
      "execution_count": null,
      "outputs": [
        {
          "output_type": "stream",
          "name": "stdout",
          "text": [
            "https://www.ladylike.gr/women-today/tayla-clement-to-koritsi-pou-den-borei-na-xamogelasei-kai-to-epipono-taxidi-agapis-gia-ton-eafto-tis/\n",
            "https://www.ladylike.gr/beauty/lily-james-ekane-to-agapimeno-kourema-ton-gallidon/\n",
            "https://www.ladylike.gr/beauty/boyfriend-manicure-4-celebrities-pou-exoun-afierosei-to-manikiour-tous-stous-agapimenous-tous/\n",
            "https://www.ladylike.gr/celebrities/vasilis-xaralampopoulos-fotografizei-ti-sizigo-tou-kai-gemizei-agapi-to-instagram/\n",
            "https://www.ladylike.gr/style/ipanema-i-pio-agapimeni-sillogi-tou-kalokairiou-2/\n",
            "https://www.ladylike.gr/beauty/afto-einai-to-neo-agapimeno-proion-ton-gallidon-pou-afairei-akomi-kai-to-pio-epimono-adiavroxo-makigiaz/\n",
            "https://www.ladylike.gr/life/my-policeman-o-harry-styles-protagonistei-se-mia-queer-istoria-agapis/\n",
            "https://www.ladylike.gr/style/6-casual-kalokairina-outfits-apo-tis-agapimenes-mas-gallides/\n",
            "https://www.ladylike.gr/celebrities/h-maria-nafpliotou-giortase-ta-genethlia-tis-xoris-makigiaz-monadiko-filtro-i-agapi/\n",
            "https://www.ladylike.gr/life/giorti-tou-patera-i-pio-xexoristi-karta-agapis-apo-tin-merimna/\n"
          ]
        }
      ]
    },
    {
      "cell_type": "code",
      "source": [
        "ladylike_agapi = pd.DataFrame(list_ladylike)\n",
        "ladylike_agapi.head(2)"
      ],
      "metadata": {
        "colab": {
          "base_uri": "https://localhost:8080/",
          "height": 112
        },
        "id": "M4puJcp0Fz4B",
        "outputId": "e1e16389-4eba-4291-a593-0440f9f5191a"
      },
      "execution_count": null,
      "outputs": [
        {
          "output_type": "execute_result",
          "data": {
            "text/plain": [
              "                                               title          date  \\\n",
              "0  \\n\\t\\t\\t\\t\\tTayla Clement: Το κορίτσι που δεν ...   9 ΙΟΥΝ 2022   \n",
              "1  \\n\\t\\t\\t\\t\\tLily James: Έκανε το αγαπημένο κού...  16 ΙΟΥΝ 2022   \n",
              "\n",
              "                                                body  \\\n",
              "0  \\n«Δεν γεννήθηκα, ούτε μεγάλωσα να είμαι δυνατ...   \n",
              "1  \\nΗ περίοδος πριν το καλοκαίρι (και πιο συγκεκ...   \n",
              "\n",
              "                                                 url  \n",
              "0  https://www.ladylike.gr/women-today/tayla-clem...  \n",
              "1  https://www.ladylike.gr/beauty/lily-james-ekan...  "
            ],
            "text/html": [
              "\n",
              "  <div id=\"df-8da54ed5-b20c-451f-9dac-82c101dfb9ad\">\n",
              "    <div class=\"colab-df-container\">\n",
              "      <div>\n",
              "<style scoped>\n",
              "    .dataframe tbody tr th:only-of-type {\n",
              "        vertical-align: middle;\n",
              "    }\n",
              "\n",
              "    .dataframe tbody tr th {\n",
              "        vertical-align: top;\n",
              "    }\n",
              "\n",
              "    .dataframe thead th {\n",
              "        text-align: right;\n",
              "    }\n",
              "</style>\n",
              "<table border=\"1\" class=\"dataframe\">\n",
              "  <thead>\n",
              "    <tr style=\"text-align: right;\">\n",
              "      <th></th>\n",
              "      <th>title</th>\n",
              "      <th>date</th>\n",
              "      <th>body</th>\n",
              "      <th>url</th>\n",
              "    </tr>\n",
              "  </thead>\n",
              "  <tbody>\n",
              "    <tr>\n",
              "      <th>0</th>\n",
              "      <td>\\n\\t\\t\\t\\t\\tTayla Clement: Το κορίτσι που δεν ...</td>\n",
              "      <td>9 ΙΟΥΝ 2022</td>\n",
              "      <td>\\n«Δεν γεννήθηκα, ούτε μεγάλωσα να είμαι δυνατ...</td>\n",
              "      <td>https://www.ladylike.gr/women-today/tayla-clem...</td>\n",
              "    </tr>\n",
              "    <tr>\n",
              "      <th>1</th>\n",
              "      <td>\\n\\t\\t\\t\\t\\tLily James: Έκανε το αγαπημένο κού...</td>\n",
              "      <td>16 ΙΟΥΝ 2022</td>\n",
              "      <td>\\nΗ περίοδος πριν το καλοκαίρι (και πιο συγκεκ...</td>\n",
              "      <td>https://www.ladylike.gr/beauty/lily-james-ekan...</td>\n",
              "    </tr>\n",
              "  </tbody>\n",
              "</table>\n",
              "</div>\n",
              "      <button class=\"colab-df-convert\" onclick=\"convertToInteractive('df-8da54ed5-b20c-451f-9dac-82c101dfb9ad')\"\n",
              "              title=\"Convert this dataframe to an interactive table.\"\n",
              "              style=\"display:none;\">\n",
              "        \n",
              "  <svg xmlns=\"http://www.w3.org/2000/svg\" height=\"24px\"viewBox=\"0 0 24 24\"\n",
              "       width=\"24px\">\n",
              "    <path d=\"M0 0h24v24H0V0z\" fill=\"none\"/>\n",
              "    <path d=\"M18.56 5.44l.94 2.06.94-2.06 2.06-.94-2.06-.94-.94-2.06-.94 2.06-2.06.94zm-11 1L8.5 8.5l.94-2.06 2.06-.94-2.06-.94L8.5 2.5l-.94 2.06-2.06.94zm10 10l.94 2.06.94-2.06 2.06-.94-2.06-.94-.94-2.06-.94 2.06-2.06.94z\"/><path d=\"M17.41 7.96l-1.37-1.37c-.4-.4-.92-.59-1.43-.59-.52 0-1.04.2-1.43.59L10.3 9.45l-7.72 7.72c-.78.78-.78 2.05 0 2.83L4 21.41c.39.39.9.59 1.41.59.51 0 1.02-.2 1.41-.59l7.78-7.78 2.81-2.81c.8-.78.8-2.07 0-2.86zM5.41 20L4 18.59l7.72-7.72 1.47 1.35L5.41 20z\"/>\n",
              "  </svg>\n",
              "      </button>\n",
              "      \n",
              "  <style>\n",
              "    .colab-df-container {\n",
              "      display:flex;\n",
              "      flex-wrap:wrap;\n",
              "      gap: 12px;\n",
              "    }\n",
              "\n",
              "    .colab-df-convert {\n",
              "      background-color: #E8F0FE;\n",
              "      border: none;\n",
              "      border-radius: 50%;\n",
              "      cursor: pointer;\n",
              "      display: none;\n",
              "      fill: #1967D2;\n",
              "      height: 32px;\n",
              "      padding: 0 0 0 0;\n",
              "      width: 32px;\n",
              "    }\n",
              "\n",
              "    .colab-df-convert:hover {\n",
              "      background-color: #E2EBFA;\n",
              "      box-shadow: 0px 1px 2px rgba(60, 64, 67, 0.3), 0px 1px 3px 1px rgba(60, 64, 67, 0.15);\n",
              "      fill: #174EA6;\n",
              "    }\n",
              "\n",
              "    [theme=dark] .colab-df-convert {\n",
              "      background-color: #3B4455;\n",
              "      fill: #D2E3FC;\n",
              "    }\n",
              "\n",
              "    [theme=dark] .colab-df-convert:hover {\n",
              "      background-color: #434B5C;\n",
              "      box-shadow: 0px 1px 3px 1px rgba(0, 0, 0, 0.15);\n",
              "      filter: drop-shadow(0px 1px 2px rgba(0, 0, 0, 0.3));\n",
              "      fill: #FFFFFF;\n",
              "    }\n",
              "  </style>\n",
              "\n",
              "      <script>\n",
              "        const buttonEl =\n",
              "          document.querySelector('#df-8da54ed5-b20c-451f-9dac-82c101dfb9ad button.colab-df-convert');\n",
              "        buttonEl.style.display =\n",
              "          google.colab.kernel.accessAllowed ? 'block' : 'none';\n",
              "\n",
              "        async function convertToInteractive(key) {\n",
              "          const element = document.querySelector('#df-8da54ed5-b20c-451f-9dac-82c101dfb9ad');\n",
              "          const dataTable =\n",
              "            await google.colab.kernel.invokeFunction('convertToInteractive',\n",
              "                                                     [key], {});\n",
              "          if (!dataTable) return;\n",
              "\n",
              "          const docLinkHtml = 'Like what you see? Visit the ' +\n",
              "            '<a target=\"_blank\" href=https://colab.research.google.com/notebooks/data_table.ipynb>data table notebook</a>'\n",
              "            + ' to learn more about interactive tables.';\n",
              "          element.innerHTML = '';\n",
              "          dataTable['output_type'] = 'display_data';\n",
              "          await google.colab.output.renderOutput(dataTable, element);\n",
              "          const docLink = document.createElement('div');\n",
              "          docLink.innerHTML = docLinkHtml;\n",
              "          element.appendChild(docLink);\n",
              "        }\n",
              "      </script>\n",
              "    </div>\n",
              "  </div>\n",
              "  "
            ]
          },
          "metadata": {},
          "execution_count": 124
        }
      ]
    },
    {
      "cell_type": "code",
      "source": [
        "ladylike_agapi['title'] = ladylike_agapi['title'].str.replace('\\n|\\t', ' ')"
      ],
      "metadata": {
        "colab": {
          "base_uri": "https://localhost:8080/"
        },
        "id": "TxsfmukeF6lT",
        "outputId": "089e1034-db17-4beb-9f7b-c9f03fa8fb17"
      },
      "execution_count": null,
      "outputs": [
        {
          "output_type": "stream",
          "name": "stderr",
          "text": [
            "/usr/local/lib/python3.7/dist-packages/ipykernel_launcher.py:1: FutureWarning: The default value of regex will change from True to False in a future version.\n",
            "  \"\"\"Entry point for launching an IPython kernel.\n"
          ]
        }
      ]
    },
    {
      "cell_type": "code",
      "source": [
        "ladylike_agapi['body'] = ladylike_agapi['body'].str.replace('\\n', ' ')"
      ],
      "metadata": {
        "id": "T65AziUOGOdV"
      },
      "execution_count": null,
      "outputs": []
    },
    {
      "cell_type": "code",
      "source": [
        "ladylike_agapi['body'] = ladylike_agapi['body'].str.replace(\"googletag.cmd.push|function|googletag.display|div-gpt-ad-1566467293150-0|gptAdSlots.push|googletag.defineSlot|defineSizeMapping|mappingSizes|addService|googletag.pubads|div-gpt-ad-1566467376477-0|mapping13\", \" \")"
      ],
      "metadata": {
        "colab": {
          "base_uri": "https://localhost:8080/"
        },
        "id": "Uzkv9JxvGr4D",
        "outputId": "9cad0754-4864-4f1f-c62e-d497ae3c9982"
      },
      "execution_count": null,
      "outputs": [
        {
          "output_type": "stream",
          "name": "stderr",
          "text": [
            "/usr/local/lib/python3.7/dist-packages/ipykernel_launcher.py:1: FutureWarning: The default value of regex will change from True to False in a future version.\n",
            "  \"\"\"Entry point for launching an IPython kernel.\n"
          ]
        }
      ]
    },
    {
      "cell_type": "code",
      "source": [
        "ladylike_agapi.head(3)"
      ],
      "metadata": {
        "colab": {
          "base_uri": "https://localhost:8080/",
          "height": 832
        },
        "id": "RVUl0pyEGXyj",
        "outputId": "3a289b1a-667d-4b88-e661-40f2dbbf3293"
      },
      "execution_count": null,
      "outputs": [
        {
          "output_type": "execute_result",
          "data": {
            "text/plain": [
              "                                               title          date  \\\n",
              "0        Tayla Clement: Το κορίτσι που δεν μπορεί...   9 ΙΟΥΝ 2022   \n",
              "1        Lily James: Έκανε το αγαπημένο κούρεμα τ...  16 ΙΟΥΝ 2022   \n",
              "2        Boyfriend Manicure: 4 celebrities που έχ...   4 ΙΟΥΝ 2022   \n",
              "\n",
              "                                                body  \\\n",
              "0   «Δεν γεννήθηκα, ούτε μεγάλωσα να είμαι δυνατή...   \n",
              "1   Η περίοδος πριν το καλοκαίρι (και πιο συγκεκρ...   \n",
              "2   Αν είσαι φανατική αυτής της στήλης, ξέρεις πό...   \n",
              "\n",
              "                                                 url  \n",
              "0  https://www.ladylike.gr/women-today/tayla-clem...  \n",
              "1  https://www.ladylike.gr/beauty/lily-james-ekan...  \n",
              "2  https://www.ladylike.gr/beauty/boyfriend-manic...  "
            ],
            "text/html": [
              "\n",
              "  <div id=\"df-6da4864b-9084-4c49-9be1-e4731df29264\">\n",
              "    <div class=\"colab-df-container\">\n",
              "      <div>\n",
              "<style scoped>\n",
              "    .dataframe tbody tr th:only-of-type {\n",
              "        vertical-align: middle;\n",
              "    }\n",
              "\n",
              "    .dataframe tbody tr th {\n",
              "        vertical-align: top;\n",
              "    }\n",
              "\n",
              "    .dataframe thead th {\n",
              "        text-align: right;\n",
              "    }\n",
              "</style>\n",
              "<table border=\"1\" class=\"dataframe\">\n",
              "  <thead>\n",
              "    <tr style=\"text-align: right;\">\n",
              "      <th></th>\n",
              "      <th>title</th>\n",
              "      <th>date</th>\n",
              "      <th>body</th>\n",
              "      <th>url</th>\n",
              "    </tr>\n",
              "  </thead>\n",
              "  <tbody>\n",
              "    <tr>\n",
              "      <th>0</th>\n",
              "      <td>Tayla Clement: Το κορίτσι που δεν μπορεί...</td>\n",
              "      <td>9 ΙΟΥΝ 2022</td>\n",
              "      <td>«Δεν γεννήθηκα, ούτε μεγάλωσα να είμαι δυνατή...</td>\n",
              "      <td>https://www.ladylike.gr/women-today/tayla-clem...</td>\n",
              "    </tr>\n",
              "    <tr>\n",
              "      <th>1</th>\n",
              "      <td>Lily James: Έκανε το αγαπημένο κούρεμα τ...</td>\n",
              "      <td>16 ΙΟΥΝ 2022</td>\n",
              "      <td>Η περίοδος πριν το καλοκαίρι (και πιο συγκεκρ...</td>\n",
              "      <td>https://www.ladylike.gr/beauty/lily-james-ekan...</td>\n",
              "    </tr>\n",
              "    <tr>\n",
              "      <th>2</th>\n",
              "      <td>Boyfriend Manicure: 4 celebrities που έχ...</td>\n",
              "      <td>4 ΙΟΥΝ 2022</td>\n",
              "      <td>Αν είσαι φανατική αυτής της στήλης, ξέρεις πό...</td>\n",
              "      <td>https://www.ladylike.gr/beauty/boyfriend-manic...</td>\n",
              "    </tr>\n",
              "  </tbody>\n",
              "</table>\n",
              "</div>\n",
              "      <button class=\"colab-df-convert\" onclick=\"convertToInteractive('df-6da4864b-9084-4c49-9be1-e4731df29264')\"\n",
              "              title=\"Convert this dataframe to an interactive table.\"\n",
              "              style=\"display:none;\">\n",
              "        \n",
              "  <svg xmlns=\"http://www.w3.org/2000/svg\" height=\"24px\"viewBox=\"0 0 24 24\"\n",
              "       width=\"24px\">\n",
              "    <path d=\"M0 0h24v24H0V0z\" fill=\"none\"/>\n",
              "    <path d=\"M18.56 5.44l.94 2.06.94-2.06 2.06-.94-2.06-.94-.94-2.06-.94 2.06-2.06.94zm-11 1L8.5 8.5l.94-2.06 2.06-.94-2.06-.94L8.5 2.5l-.94 2.06-2.06.94zm10 10l.94 2.06.94-2.06 2.06-.94-2.06-.94-.94-2.06-.94 2.06-2.06.94z\"/><path d=\"M17.41 7.96l-1.37-1.37c-.4-.4-.92-.59-1.43-.59-.52 0-1.04.2-1.43.59L10.3 9.45l-7.72 7.72c-.78.78-.78 2.05 0 2.83L4 21.41c.39.39.9.59 1.41.59.51 0 1.02-.2 1.41-.59l7.78-7.78 2.81-2.81c.8-.78.8-2.07 0-2.86zM5.41 20L4 18.59l7.72-7.72 1.47 1.35L5.41 20z\"/>\n",
              "  </svg>\n",
              "      </button>\n",
              "      \n",
              "  <style>\n",
              "    .colab-df-container {\n",
              "      display:flex;\n",
              "      flex-wrap:wrap;\n",
              "      gap: 12px;\n",
              "    }\n",
              "\n",
              "    .colab-df-convert {\n",
              "      background-color: #E8F0FE;\n",
              "      border: none;\n",
              "      border-radius: 50%;\n",
              "      cursor: pointer;\n",
              "      display: none;\n",
              "      fill: #1967D2;\n",
              "      height: 32px;\n",
              "      padding: 0 0 0 0;\n",
              "      width: 32px;\n",
              "    }\n",
              "\n",
              "    .colab-df-convert:hover {\n",
              "      background-color: #E2EBFA;\n",
              "      box-shadow: 0px 1px 2px rgba(60, 64, 67, 0.3), 0px 1px 3px 1px rgba(60, 64, 67, 0.15);\n",
              "      fill: #174EA6;\n",
              "    }\n",
              "\n",
              "    [theme=dark] .colab-df-convert {\n",
              "      background-color: #3B4455;\n",
              "      fill: #D2E3FC;\n",
              "    }\n",
              "\n",
              "    [theme=dark] .colab-df-convert:hover {\n",
              "      background-color: #434B5C;\n",
              "      box-shadow: 0px 1px 3px 1px rgba(0, 0, 0, 0.15);\n",
              "      filter: drop-shadow(0px 1px 2px rgba(0, 0, 0, 0.3));\n",
              "      fill: #FFFFFF;\n",
              "    }\n",
              "  </style>\n",
              "\n",
              "      <script>\n",
              "        const buttonEl =\n",
              "          document.querySelector('#df-6da4864b-9084-4c49-9be1-e4731df29264 button.colab-df-convert');\n",
              "        buttonEl.style.display =\n",
              "          google.colab.kernel.accessAllowed ? 'block' : 'none';\n",
              "\n",
              "        async function convertToInteractive(key) {\n",
              "          const element = document.querySelector('#df-6da4864b-9084-4c49-9be1-e4731df29264');\n",
              "          const dataTable =\n",
              "            await google.colab.kernel.invokeFunction('convertToInteractive',\n",
              "                                                     [key], {});\n",
              "          if (!dataTable) return;\n",
              "\n",
              "          const docLinkHtml = 'Like what you see? Visit the ' +\n",
              "            '<a target=\"_blank\" href=https://colab.research.google.com/notebooks/data_table.ipynb>data table notebook</a>'\n",
              "            + ' to learn more about interactive tables.';\n",
              "          element.innerHTML = '';\n",
              "          dataTable['output_type'] = 'display_data';\n",
              "          await google.colab.output.renderOutput(dataTable, element);\n",
              "          const docLink = document.createElement('div');\n",
              "          docLink.innerHTML = docLinkHtml;\n",
              "          element.appendChild(docLink);\n",
              "        }\n",
              "      </script>\n",
              "    </div>\n",
              "  </div>\n",
              "  "
            ]
          },
          "metadata": {},
          "execution_count": 141
        }
      ]
    },
    {
      "cell_type": "code",
      "source": [
        "ladylike_agapi['date'] = ladylike_agapi['date'].str.replace('ΙΟΥΝ', 'June')"
      ],
      "metadata": {
        "id": "tt35cmO6Is7V"
      },
      "execution_count": null,
      "outputs": []
    },
    {
      "cell_type": "code",
      "source": [
        "ladylike_agapi['date'] = pd.to_datetime(ladylike_agapi['date'])\n",
        "ladylike_agapi.head(1)"
      ],
      "metadata": {
        "colab": {
          "base_uri": "https://localhost:8080/",
          "height": 81
        },
        "id": "e-ziKXYZIUKt",
        "outputId": "7b1dd262-46a1-4c30-e9f4-21701e53dc64"
      },
      "execution_count": null,
      "outputs": [
        {
          "output_type": "execute_result",
          "data": {
            "text/plain": [
              "                                               title       date  \\\n",
              "0        Tayla Clement: Το κορίτσι που δεν μπορεί... 2022-06-09   \n",
              "\n",
              "                                                body  \\\n",
              "0   «Δεν γεννήθηκα, ούτε μεγάλωσα να είμαι δυνατή...   \n",
              "\n",
              "                                                 url  \n",
              "0  https://www.ladylike.gr/women-today/tayla-clem...  "
            ],
            "text/html": [
              "\n",
              "  <div id=\"df-1eb2ba1e-7840-4637-88ca-924fd44cf411\">\n",
              "    <div class=\"colab-df-container\">\n",
              "      <div>\n",
              "<style scoped>\n",
              "    .dataframe tbody tr th:only-of-type {\n",
              "        vertical-align: middle;\n",
              "    }\n",
              "\n",
              "    .dataframe tbody tr th {\n",
              "        vertical-align: top;\n",
              "    }\n",
              "\n",
              "    .dataframe thead th {\n",
              "        text-align: right;\n",
              "    }\n",
              "</style>\n",
              "<table border=\"1\" class=\"dataframe\">\n",
              "  <thead>\n",
              "    <tr style=\"text-align: right;\">\n",
              "      <th></th>\n",
              "      <th>title</th>\n",
              "      <th>date</th>\n",
              "      <th>body</th>\n",
              "      <th>url</th>\n",
              "    </tr>\n",
              "  </thead>\n",
              "  <tbody>\n",
              "    <tr>\n",
              "      <th>0</th>\n",
              "      <td>Tayla Clement: Το κορίτσι που δεν μπορεί...</td>\n",
              "      <td>2022-06-09</td>\n",
              "      <td>«Δεν γεννήθηκα, ούτε μεγάλωσα να είμαι δυνατή...</td>\n",
              "      <td>https://www.ladylike.gr/women-today/tayla-clem...</td>\n",
              "    </tr>\n",
              "  </tbody>\n",
              "</table>\n",
              "</div>\n",
              "      <button class=\"colab-df-convert\" onclick=\"convertToInteractive('df-1eb2ba1e-7840-4637-88ca-924fd44cf411')\"\n",
              "              title=\"Convert this dataframe to an interactive table.\"\n",
              "              style=\"display:none;\">\n",
              "        \n",
              "  <svg xmlns=\"http://www.w3.org/2000/svg\" height=\"24px\"viewBox=\"0 0 24 24\"\n",
              "       width=\"24px\">\n",
              "    <path d=\"M0 0h24v24H0V0z\" fill=\"none\"/>\n",
              "    <path d=\"M18.56 5.44l.94 2.06.94-2.06 2.06-.94-2.06-.94-.94-2.06-.94 2.06-2.06.94zm-11 1L8.5 8.5l.94-2.06 2.06-.94-2.06-.94L8.5 2.5l-.94 2.06-2.06.94zm10 10l.94 2.06.94-2.06 2.06-.94-2.06-.94-.94-2.06-.94 2.06-2.06.94z\"/><path d=\"M17.41 7.96l-1.37-1.37c-.4-.4-.92-.59-1.43-.59-.52 0-1.04.2-1.43.59L10.3 9.45l-7.72 7.72c-.78.78-.78 2.05 0 2.83L4 21.41c.39.39.9.59 1.41.59.51 0 1.02-.2 1.41-.59l7.78-7.78 2.81-2.81c.8-.78.8-2.07 0-2.86zM5.41 20L4 18.59l7.72-7.72 1.47 1.35L5.41 20z\"/>\n",
              "  </svg>\n",
              "      </button>\n",
              "      \n",
              "  <style>\n",
              "    .colab-df-container {\n",
              "      display:flex;\n",
              "      flex-wrap:wrap;\n",
              "      gap: 12px;\n",
              "    }\n",
              "\n",
              "    .colab-df-convert {\n",
              "      background-color: #E8F0FE;\n",
              "      border: none;\n",
              "      border-radius: 50%;\n",
              "      cursor: pointer;\n",
              "      display: none;\n",
              "      fill: #1967D2;\n",
              "      height: 32px;\n",
              "      padding: 0 0 0 0;\n",
              "      width: 32px;\n",
              "    }\n",
              "\n",
              "    .colab-df-convert:hover {\n",
              "      background-color: #E2EBFA;\n",
              "      box-shadow: 0px 1px 2px rgba(60, 64, 67, 0.3), 0px 1px 3px 1px rgba(60, 64, 67, 0.15);\n",
              "      fill: #174EA6;\n",
              "    }\n",
              "\n",
              "    [theme=dark] .colab-df-convert {\n",
              "      background-color: #3B4455;\n",
              "      fill: #D2E3FC;\n",
              "    }\n",
              "\n",
              "    [theme=dark] .colab-df-convert:hover {\n",
              "      background-color: #434B5C;\n",
              "      box-shadow: 0px 1px 3px 1px rgba(0, 0, 0, 0.15);\n",
              "      filter: drop-shadow(0px 1px 2px rgba(0, 0, 0, 0.3));\n",
              "      fill: #FFFFFF;\n",
              "    }\n",
              "  </style>\n",
              "\n",
              "      <script>\n",
              "        const buttonEl =\n",
              "          document.querySelector('#df-1eb2ba1e-7840-4637-88ca-924fd44cf411 button.colab-df-convert');\n",
              "        buttonEl.style.display =\n",
              "          google.colab.kernel.accessAllowed ? 'block' : 'none';\n",
              "\n",
              "        async function convertToInteractive(key) {\n",
              "          const element = document.querySelector('#df-1eb2ba1e-7840-4637-88ca-924fd44cf411');\n",
              "          const dataTable =\n",
              "            await google.colab.kernel.invokeFunction('convertToInteractive',\n",
              "                                                     [key], {});\n",
              "          if (!dataTable) return;\n",
              "\n",
              "          const docLinkHtml = 'Like what you see? Visit the ' +\n",
              "            '<a target=\"_blank\" href=https://colab.research.google.com/notebooks/data_table.ipynb>data table notebook</a>'\n",
              "            + ' to learn more about interactive tables.';\n",
              "          element.innerHTML = '';\n",
              "          dataTable['output_type'] = 'display_data';\n",
              "          await google.colab.output.renderOutput(dataTable, element);\n",
              "          const docLink = document.createElement('div');\n",
              "          docLink.innerHTML = docLinkHtml;\n",
              "          element.appendChild(docLink);\n",
              "        }\n",
              "      </script>\n",
              "    </div>\n",
              "  </div>\n",
              "  "
            ]
          },
          "metadata": {},
          "execution_count": 145
        }
      ]
    },
    {
      "cell_type": "code",
      "source": [
        "ladylike_agapi['year'] = ladylike_agapi['date'].dt.strftime('%Y')"
      ],
      "metadata": {
        "id": "mpObU3XBGTOC"
      },
      "execution_count": null,
      "outputs": []
    },
    {
      "cell_type": "code",
      "source": [
        "ladylike_agapi.to_csv(\"/content/gdrive/My Drive/Colab Notebooks/ladylike_agapi.csv\")"
      ],
      "metadata": {
        "id": "aMQUWaoHI-8j"
      },
      "execution_count": null,
      "outputs": []
    }
  ]
}